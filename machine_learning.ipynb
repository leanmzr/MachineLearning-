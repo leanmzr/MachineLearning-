{
  "nbformat": 4,
  "nbformat_minor": 0,
  "metadata": {
    "colab": {
      "provenance": [],
      "toc_visible": true,
      "authorship_tag": "ABX9TyO/O94HwNe9rRIXPsQM5L06",
      "include_colab_link": true
    },
    "kernelspec": {
      "name": "python3",
      "display_name": "Python 3"
    },
    "language_info": {
      "name": "python"
    }
  },
  "cells": [
    {
      "cell_type": "markdown",
      "metadata": {
        "id": "view-in-github",
        "colab_type": "text"
      },
      "source": [
        "<a href=\"https://colab.research.google.com/github/leanmzr/MachineLearning-/blob/main/machine_learning.ipynb\" target=\"_parent\"><img src=\"https://colab.research.google.com/assets/colab-badge.svg\" alt=\"Open In Colab\"/></a>"
      ]
    },
    {
      "cell_type": "code",
      "execution_count": null,
      "metadata": {
        "id": "0CdfS32Ngoxg"
      },
      "outputs": [],
      "source": []
    },
    {
      "cell_type": "markdown",
      "source": [
        "# * 1.1 Vue d'ensemble des données :\n",
        "\n",
        "Charger le jeu de données dans un dataframe pandas et afficher les premières lignes.\n",
        "\n"
      ],
      "metadata": {
        "id": "Y9jxlB27gqpd"
      }
    },
    {
      "cell_type": "code",
      "source": [
        "import pandas as pd\n",
        "df = pd.read_csv(\"/content/dataset.csv\")\n",
        "df.head()"
      ],
      "metadata": {
        "colab": {
          "base_uri": "https://localhost:8080/",
          "height": 270
        },
        "id": "xdx4GB0Vg4I7",
        "outputId": "db7ecb15-f88d-4566-abb5-efdf3b4a0ad8"
      },
      "execution_count": null,
      "outputs": [
        {
          "output_type": "execute_result",
          "data": {
            "text/plain": [
              "   ID gender   age  height(cm)  weight(kg)  waist(cm)  eyesight(left)  \\\n",
              "0   0      F  40.0         155        60.0       81.3             1.2   \n",
              "1   1      F  40.0         160        60.0       81.0             0.8   \n",
              "2   2      M  55.0         170        60.0       80.0             0.8   \n",
              "3   3      M  40.0         165        70.0       88.0             1.5   \n",
              "4   4      F  40.0         155        60.0       86.0             1.0   \n",
              "\n",
              "   eyesight(right)  hearing(left)  hearing(right)  ...  hemoglobin  \\\n",
              "0              1.0            1.0             1.0  ...        12.9   \n",
              "1              0.6            1.0             1.0  ...        12.7   \n",
              "2              0.8            1.0             1.0  ...        15.8   \n",
              "3              1.5            1.0             1.0  ...        14.7   \n",
              "4              1.0            1.0             1.0  ...        12.5   \n",
              "\n",
              "   Urine protein  serum creatinine   AST   ALT   Gtp  oral  dental caries  \\\n",
              "0            1.0               0.7  18.0  19.0  27.0     Y              0   \n",
              "1            1.0               0.6  22.0  19.0  18.0     Y              0   \n",
              "2            1.0               1.0  21.0  16.0  22.0     Y              0   \n",
              "3            1.0               1.0  19.0  26.0  18.0     Y              0   \n",
              "4            1.0               0.6  16.0  14.0  22.0     Y              0   \n",
              "\n",
              "   tartar  smoking  \n",
              "0       Y        0  \n",
              "1       Y        0  \n",
              "2       N        1  \n",
              "3       Y        0  \n",
              "4       N        0  \n",
              "\n",
              "[5 rows x 27 columns]"
            ],
            "text/html": [
              "\n",
              "  <div id=\"df-8ed1ef69-72be-4ac1-aa3d-33ff8572b942\" class=\"colab-df-container\">\n",
              "    <div>\n",
              "<style scoped>\n",
              "    .dataframe tbody tr th:only-of-type {\n",
              "        vertical-align: middle;\n",
              "    }\n",
              "\n",
              "    .dataframe tbody tr th {\n",
              "        vertical-align: top;\n",
              "    }\n",
              "\n",
              "    .dataframe thead th {\n",
              "        text-align: right;\n",
              "    }\n",
              "</style>\n",
              "<table border=\"1\" class=\"dataframe\">\n",
              "  <thead>\n",
              "    <tr style=\"text-align: right;\">\n",
              "      <th></th>\n",
              "      <th>ID</th>\n",
              "      <th>gender</th>\n",
              "      <th>age</th>\n",
              "      <th>height(cm)</th>\n",
              "      <th>weight(kg)</th>\n",
              "      <th>waist(cm)</th>\n",
              "      <th>eyesight(left)</th>\n",
              "      <th>eyesight(right)</th>\n",
              "      <th>hearing(left)</th>\n",
              "      <th>hearing(right)</th>\n",
              "      <th>...</th>\n",
              "      <th>hemoglobin</th>\n",
              "      <th>Urine protein</th>\n",
              "      <th>serum creatinine</th>\n",
              "      <th>AST</th>\n",
              "      <th>ALT</th>\n",
              "      <th>Gtp</th>\n",
              "      <th>oral</th>\n",
              "      <th>dental caries</th>\n",
              "      <th>tartar</th>\n",
              "      <th>smoking</th>\n",
              "    </tr>\n",
              "  </thead>\n",
              "  <tbody>\n",
              "    <tr>\n",
              "      <th>0</th>\n",
              "      <td>0</td>\n",
              "      <td>F</td>\n",
              "      <td>40.0</td>\n",
              "      <td>155</td>\n",
              "      <td>60.0</td>\n",
              "      <td>81.3</td>\n",
              "      <td>1.2</td>\n",
              "      <td>1.0</td>\n",
              "      <td>1.0</td>\n",
              "      <td>1.0</td>\n",
              "      <td>...</td>\n",
              "      <td>12.9</td>\n",
              "      <td>1.0</td>\n",
              "      <td>0.7</td>\n",
              "      <td>18.0</td>\n",
              "      <td>19.0</td>\n",
              "      <td>27.0</td>\n",
              "      <td>Y</td>\n",
              "      <td>0</td>\n",
              "      <td>Y</td>\n",
              "      <td>0</td>\n",
              "    </tr>\n",
              "    <tr>\n",
              "      <th>1</th>\n",
              "      <td>1</td>\n",
              "      <td>F</td>\n",
              "      <td>40.0</td>\n",
              "      <td>160</td>\n",
              "      <td>60.0</td>\n",
              "      <td>81.0</td>\n",
              "      <td>0.8</td>\n",
              "      <td>0.6</td>\n",
              "      <td>1.0</td>\n",
              "      <td>1.0</td>\n",
              "      <td>...</td>\n",
              "      <td>12.7</td>\n",
              "      <td>1.0</td>\n",
              "      <td>0.6</td>\n",
              "      <td>22.0</td>\n",
              "      <td>19.0</td>\n",
              "      <td>18.0</td>\n",
              "      <td>Y</td>\n",
              "      <td>0</td>\n",
              "      <td>Y</td>\n",
              "      <td>0</td>\n",
              "    </tr>\n",
              "    <tr>\n",
              "      <th>2</th>\n",
              "      <td>2</td>\n",
              "      <td>M</td>\n",
              "      <td>55.0</td>\n",
              "      <td>170</td>\n",
              "      <td>60.0</td>\n",
              "      <td>80.0</td>\n",
              "      <td>0.8</td>\n",
              "      <td>0.8</td>\n",
              "      <td>1.0</td>\n",
              "      <td>1.0</td>\n",
              "      <td>...</td>\n",
              "      <td>15.8</td>\n",
              "      <td>1.0</td>\n",
              "      <td>1.0</td>\n",
              "      <td>21.0</td>\n",
              "      <td>16.0</td>\n",
              "      <td>22.0</td>\n",
              "      <td>Y</td>\n",
              "      <td>0</td>\n",
              "      <td>N</td>\n",
              "      <td>1</td>\n",
              "    </tr>\n",
              "    <tr>\n",
              "      <th>3</th>\n",
              "      <td>3</td>\n",
              "      <td>M</td>\n",
              "      <td>40.0</td>\n",
              "      <td>165</td>\n",
              "      <td>70.0</td>\n",
              "      <td>88.0</td>\n",
              "      <td>1.5</td>\n",
              "      <td>1.5</td>\n",
              "      <td>1.0</td>\n",
              "      <td>1.0</td>\n",
              "      <td>...</td>\n",
              "      <td>14.7</td>\n",
              "      <td>1.0</td>\n",
              "      <td>1.0</td>\n",
              "      <td>19.0</td>\n",
              "      <td>26.0</td>\n",
              "      <td>18.0</td>\n",
              "      <td>Y</td>\n",
              "      <td>0</td>\n",
              "      <td>Y</td>\n",
              "      <td>0</td>\n",
              "    </tr>\n",
              "    <tr>\n",
              "      <th>4</th>\n",
              "      <td>4</td>\n",
              "      <td>F</td>\n",
              "      <td>40.0</td>\n",
              "      <td>155</td>\n",
              "      <td>60.0</td>\n",
              "      <td>86.0</td>\n",
              "      <td>1.0</td>\n",
              "      <td>1.0</td>\n",
              "      <td>1.0</td>\n",
              "      <td>1.0</td>\n",
              "      <td>...</td>\n",
              "      <td>12.5</td>\n",
              "      <td>1.0</td>\n",
              "      <td>0.6</td>\n",
              "      <td>16.0</td>\n",
              "      <td>14.0</td>\n",
              "      <td>22.0</td>\n",
              "      <td>Y</td>\n",
              "      <td>0</td>\n",
              "      <td>N</td>\n",
              "      <td>0</td>\n",
              "    </tr>\n",
              "  </tbody>\n",
              "</table>\n",
              "<p>5 rows × 27 columns</p>\n",
              "</div>\n",
              "    <div class=\"colab-df-buttons\">\n",
              "\n",
              "  <div class=\"colab-df-container\">\n",
              "    <button class=\"colab-df-convert\" onclick=\"convertToInteractive('df-8ed1ef69-72be-4ac1-aa3d-33ff8572b942')\"\n",
              "            title=\"Convert this dataframe to an interactive table.\"\n",
              "            style=\"display:none;\">\n",
              "\n",
              "  <svg xmlns=\"http://www.w3.org/2000/svg\" height=\"24px\" viewBox=\"0 -960 960 960\">\n",
              "    <path d=\"M120-120v-720h720v720H120Zm60-500h600v-160H180v160Zm220 220h160v-160H400v160Zm0 220h160v-160H400v160ZM180-400h160v-160H180v160Zm440 0h160v-160H620v160ZM180-180h160v-160H180v160Zm440 0h160v-160H620v160Z\"/>\n",
              "  </svg>\n",
              "    </button>\n",
              "\n",
              "  <style>\n",
              "    .colab-df-container {\n",
              "      display:flex;\n",
              "      gap: 12px;\n",
              "    }\n",
              "\n",
              "    .colab-df-convert {\n",
              "      background-color: #E8F0FE;\n",
              "      border: none;\n",
              "      border-radius: 50%;\n",
              "      cursor: pointer;\n",
              "      display: none;\n",
              "      fill: #1967D2;\n",
              "      height: 32px;\n",
              "      padding: 0 0 0 0;\n",
              "      width: 32px;\n",
              "    }\n",
              "\n",
              "    .colab-df-convert:hover {\n",
              "      background-color: #E2EBFA;\n",
              "      box-shadow: 0px 1px 2px rgba(60, 64, 67, 0.3), 0px 1px 3px 1px rgba(60, 64, 67, 0.15);\n",
              "      fill: #174EA6;\n",
              "    }\n",
              "\n",
              "    .colab-df-buttons div {\n",
              "      margin-bottom: 4px;\n",
              "    }\n",
              "\n",
              "    [theme=dark] .colab-df-convert {\n",
              "      background-color: #3B4455;\n",
              "      fill: #D2E3FC;\n",
              "    }\n",
              "\n",
              "    [theme=dark] .colab-df-convert:hover {\n",
              "      background-color: #434B5C;\n",
              "      box-shadow: 0px 1px 3px 1px rgba(0, 0, 0, 0.15);\n",
              "      filter: drop-shadow(0px 1px 2px rgba(0, 0, 0, 0.3));\n",
              "      fill: #FFFFFF;\n",
              "    }\n",
              "  </style>\n",
              "\n",
              "    <script>\n",
              "      const buttonEl =\n",
              "        document.querySelector('#df-8ed1ef69-72be-4ac1-aa3d-33ff8572b942 button.colab-df-convert');\n",
              "      buttonEl.style.display =\n",
              "        google.colab.kernel.accessAllowed ? 'block' : 'none';\n",
              "\n",
              "      async function convertToInteractive(key) {\n",
              "        const element = document.querySelector('#df-8ed1ef69-72be-4ac1-aa3d-33ff8572b942');\n",
              "        const dataTable =\n",
              "          await google.colab.kernel.invokeFunction('convertToInteractive',\n",
              "                                                    [key], {});\n",
              "        if (!dataTable) return;\n",
              "\n",
              "        const docLinkHtml = 'Like what you see? Visit the ' +\n",
              "          '<a target=\"_blank\" href=https://colab.research.google.com/notebooks/data_table.ipynb>data table notebook</a>'\n",
              "          + ' to learn more about interactive tables.';\n",
              "        element.innerHTML = '';\n",
              "        dataTable['output_type'] = 'display_data';\n",
              "        await google.colab.output.renderOutput(dataTable, element);\n",
              "        const docLink = document.createElement('div');\n",
              "        docLink.innerHTML = docLinkHtml;\n",
              "        element.appendChild(docLink);\n",
              "      }\n",
              "    </script>\n",
              "  </div>\n",
              "\n",
              "\n",
              "<div id=\"df-7dfbe018-adb3-403d-91a2-d3b16fb2355f\">\n",
              "  <button class=\"colab-df-quickchart\" onclick=\"quickchart('df-7dfbe018-adb3-403d-91a2-d3b16fb2355f')\"\n",
              "            title=\"Suggest charts\"\n",
              "            style=\"display:none;\">\n",
              "\n",
              "<svg xmlns=\"http://www.w3.org/2000/svg\" height=\"24px\"viewBox=\"0 0 24 24\"\n",
              "     width=\"24px\">\n",
              "    <g>\n",
              "        <path d=\"M19 3H5c-1.1 0-2 .9-2 2v14c0 1.1.9 2 2 2h14c1.1 0 2-.9 2-2V5c0-1.1-.9-2-2-2zM9 17H7v-7h2v7zm4 0h-2V7h2v10zm4 0h-2v-4h2v4z\"/>\n",
              "    </g>\n",
              "</svg>\n",
              "  </button>\n",
              "\n",
              "<style>\n",
              "  .colab-df-quickchart {\n",
              "      --bg-color: #E8F0FE;\n",
              "      --fill-color: #1967D2;\n",
              "      --hover-bg-color: #E2EBFA;\n",
              "      --hover-fill-color: #174EA6;\n",
              "      --disabled-fill-color: #AAA;\n",
              "      --disabled-bg-color: #DDD;\n",
              "  }\n",
              "\n",
              "  [theme=dark] .colab-df-quickchart {\n",
              "      --bg-color: #3B4455;\n",
              "      --fill-color: #D2E3FC;\n",
              "      --hover-bg-color: #434B5C;\n",
              "      --hover-fill-color: #FFFFFF;\n",
              "      --disabled-bg-color: #3B4455;\n",
              "      --disabled-fill-color: #666;\n",
              "  }\n",
              "\n",
              "  .colab-df-quickchart {\n",
              "    background-color: var(--bg-color);\n",
              "    border: none;\n",
              "    border-radius: 50%;\n",
              "    cursor: pointer;\n",
              "    display: none;\n",
              "    fill: var(--fill-color);\n",
              "    height: 32px;\n",
              "    padding: 0;\n",
              "    width: 32px;\n",
              "  }\n",
              "\n",
              "  .colab-df-quickchart:hover {\n",
              "    background-color: var(--hover-bg-color);\n",
              "    box-shadow: 0 1px 2px rgba(60, 64, 67, 0.3), 0 1px 3px 1px rgba(60, 64, 67, 0.15);\n",
              "    fill: var(--button-hover-fill-color);\n",
              "  }\n",
              "\n",
              "  .colab-df-quickchart-complete:disabled,\n",
              "  .colab-df-quickchart-complete:disabled:hover {\n",
              "    background-color: var(--disabled-bg-color);\n",
              "    fill: var(--disabled-fill-color);\n",
              "    box-shadow: none;\n",
              "  }\n",
              "\n",
              "  .colab-df-spinner {\n",
              "    border: 2px solid var(--fill-color);\n",
              "    border-color: transparent;\n",
              "    border-bottom-color: var(--fill-color);\n",
              "    animation:\n",
              "      spin 1s steps(1) infinite;\n",
              "  }\n",
              "\n",
              "  @keyframes spin {\n",
              "    0% {\n",
              "      border-color: transparent;\n",
              "      border-bottom-color: var(--fill-color);\n",
              "      border-left-color: var(--fill-color);\n",
              "    }\n",
              "    20% {\n",
              "      border-color: transparent;\n",
              "      border-left-color: var(--fill-color);\n",
              "      border-top-color: var(--fill-color);\n",
              "    }\n",
              "    30% {\n",
              "      border-color: transparent;\n",
              "      border-left-color: var(--fill-color);\n",
              "      border-top-color: var(--fill-color);\n",
              "      border-right-color: var(--fill-color);\n",
              "    }\n",
              "    40% {\n",
              "      border-color: transparent;\n",
              "      border-right-color: var(--fill-color);\n",
              "      border-top-color: var(--fill-color);\n",
              "    }\n",
              "    60% {\n",
              "      border-color: transparent;\n",
              "      border-right-color: var(--fill-color);\n",
              "    }\n",
              "    80% {\n",
              "      border-color: transparent;\n",
              "      border-right-color: var(--fill-color);\n",
              "      border-bottom-color: var(--fill-color);\n",
              "    }\n",
              "    90% {\n",
              "      border-color: transparent;\n",
              "      border-bottom-color: var(--fill-color);\n",
              "    }\n",
              "  }\n",
              "</style>\n",
              "\n",
              "  <script>\n",
              "    async function quickchart(key) {\n",
              "      const quickchartButtonEl =\n",
              "        document.querySelector('#' + key + ' button');\n",
              "      quickchartButtonEl.disabled = true;  // To prevent multiple clicks.\n",
              "      quickchartButtonEl.classList.add('colab-df-spinner');\n",
              "      try {\n",
              "        const charts = await google.colab.kernel.invokeFunction(\n",
              "            'suggestCharts', [key], {});\n",
              "      } catch (error) {\n",
              "        console.error('Error during call to suggestCharts:', error);\n",
              "      }\n",
              "      quickchartButtonEl.classList.remove('colab-df-spinner');\n",
              "      quickchartButtonEl.classList.add('colab-df-quickchart-complete');\n",
              "    }\n",
              "    (() => {\n",
              "      let quickchartButtonEl =\n",
              "        document.querySelector('#df-7dfbe018-adb3-403d-91a2-d3b16fb2355f button');\n",
              "      quickchartButtonEl.style.display =\n",
              "        google.colab.kernel.accessAllowed ? 'block' : 'none';\n",
              "    })();\n",
              "  </script>\n",
              "</div>\n",
              "    </div>\n",
              "  </div>\n"
            ],
            "application/vnd.google.colaboratory.intrinsic+json": {
              "type": "dataframe",
              "variable_name": "df"
            }
          },
          "metadata": {},
          "execution_count": 21
        }
      ]
    },
    {
      "cell_type": "markdown",
      "source": [
        "**Questions :**\n",
        "\n",
        "Quelles sont les différentes colonnes du jeu de données ?\n"
      ],
      "metadata": {
        "id": "vYSYygCUhX4z"
      }
    },
    {
      "cell_type": "code",
      "source": [
        "for col in df.columns:\n",
        "    print(col)"
      ],
      "metadata": {
        "colab": {
          "base_uri": "https://localhost:8080/"
        },
        "id": "orb-d807iYlT",
        "outputId": "beff73d5-a8d0-40d0-a4fd-ba9a3a881516"
      },
      "execution_count": null,
      "outputs": [
        {
          "output_type": "stream",
          "name": "stdout",
          "text": [
            "ID\n",
            "gender\n",
            "age\n",
            "height(cm)\n",
            "weight(kg)\n",
            "waist(cm)\n",
            "eyesight(left)\n",
            "eyesight(right)\n",
            "hearing(left)\n",
            "hearing(right)\n",
            "systolic\n",
            "relaxation\n",
            "fasting blood sugar\n",
            "Cholesterol\n",
            "triglyceride\n",
            "HDL\n",
            "LDL\n",
            "hemoglobin\n",
            "Urine protein\n",
            "serum creatinine\n",
            "AST\n",
            "ALT\n",
            "Gtp\n",
            "oral\n",
            "dental caries\n",
            "tartar\n",
            "smoking\n"
          ]
        }
      ]
    },
    {
      "cell_type": "markdown",
      "source": [
        "\n",
        "Combien y a-t-il d'entrées dans le jeu de données ?\n",
        "\n"
      ],
      "metadata": {
        "id": "kOZVssKpiinP"
      }
    },
    {
      "cell_type": "code",
      "source": [
        "entrees = len(df)\n",
        "\n",
        "print(f'la data à {entrees} entrées.')"
      ],
      "metadata": {
        "colab": {
          "base_uri": "https://localhost:8080/"
        },
        "id": "CuciF0T6ikdq",
        "outputId": "340c772e-d46b-4fca-f387-377732294386"
      },
      "execution_count": null,
      "outputs": [
        {
          "output_type": "stream",
          "name": "stdout",
          "text": [
            "la data à 55702 entrées.\n"
          ]
        }
      ]
    },
    {
      "cell_type": "markdown",
      "source": [
        "Le jeu de données contient-il des valeures nulles ? Si oui combien ?"
      ],
      "metadata": {
        "id": "d8CFavvSjF5A"
      }
    },
    {
      "cell_type": "code",
      "source": [
        "df.isna().sum()\n",
        "df=df.dropna(how='any')"
      ],
      "metadata": {
        "id": "2_7Nl-YJjIIs"
      },
      "execution_count": null,
      "outputs": []
    },
    {
      "cell_type": "markdown",
      "source": [
        "# * 1.2 Statistiques descriptives :\n",
        "\n",
        "Générer des statistiques descriptives pour le jeu de données. Questions :"
      ],
      "metadata": {
        "id": "aBSE3ThFlOx0"
      }
    },
    {
      "cell_type": "markdown",
      "source": [
        "Quelle est la moyenne d'âge, de taille et de poids des fumeurs ?"
      ],
      "metadata": {
        "id": "vb215VYqlYcq"
      }
    },
    {
      "cell_type": "code",
      "source": [
        "print(\"l'age moyen est : \",df.loc[df['smoking'] == 1, 'age'].mean() )\n",
        "print(\"la taille moyenne est : \",df.loc[df['smoking'] == 1, 'height(cm)'].mean() )\n",
        "print(\"le poid moyen est : \",df.loc[df['smoking'] == 1, 'weight(kg)'].mean() )\n",
        "\n"
      ],
      "metadata": {
        "colab": {
          "base_uri": "https://localhost:8080/"
        },
        "id": "T7a79amilfQi",
        "outputId": "05a4acc0-9cae-417a-8446-9e34ca206cbc"
      },
      "execution_count": null,
      "outputs": [
        {
          "output_type": "stream",
          "name": "stdout",
          "text": [
            "l'age moyen est :  43.560813453265546\n",
            "la taille moyenne est :  169.4354010852031\n",
            "le poid moyen est :  70.95937622213532\n"
          ]
        }
      ]
    },
    {
      "cell_type": "markdown",
      "source": [
        "Y a-t-il des motifs ou des valeurs aberrantes notables dans les données ? (Un age 200 ans par exemple)"
      ],
      "metadata": {
        "id": "Xc0_WTEIp69z"
      }
    },
    {
      "cell_type": "code",
      "source": [
        "print(\"age aberant :\\n\")\n",
        "df.loc[(df[\"age\"] < 10) | (df[\"age\"] > 100), 'age']\n",
        "\n"
      ],
      "metadata": {
        "id": "28lG5TSLp-wc",
        "colab": {
          "base_uri": "https://localhost:8080/"
        },
        "outputId": "e9cbf333-1903-48c1-bb96-f4d08f3929f0"
      },
      "execution_count": null,
      "outputs": [
        {
          "output_type": "stream",
          "name": "stdout",
          "text": [
            "age aberant :\n",
            "\n"
          ]
        },
        {
          "output_type": "execute_result",
          "data": {
            "text/plain": [
              "55692      180.0\n",
              "55693     1200.0\n",
              "55694     3000.0\n",
              "55695    40000.0\n",
              "Name: age, dtype: float64"
            ]
          },
          "metadata": {},
          "execution_count": 56
        }
      ]
    },
    {
      "cell_type": "markdown",
      "source": [
        "Quelle est l'écart type de l'hémoglobine ?"
      ],
      "metadata": {
        "id": "lgEtLwTntXKf"
      }
    },
    {
      "cell_type": "code",
      "source": [
        "print(\"l'ecart type de l'hémoglobine est : \",df['hemoglobin'].std())\n"
      ],
      "metadata": {
        "colab": {
          "base_uri": "https://localhost:8080/"
        },
        "id": "-vrfVjEWtZRm",
        "outputId": "7c693b9f-7af9-4d0d-98da-13457ff80444"
      },
      "execution_count": null,
      "outputs": [
        {
          "output_type": "stream",
          "name": "stdout",
          "text": [
            "l'ecart type de l'hémoglobine est :  1.5644757507736968\n"
          ]
        }
      ]
    },
    {
      "cell_type": "markdown",
      "source": [
        "# * 1.3 Distribution de la donnée :\n",
        "\n",
        "Combien y a-il de fumeur vs non-fumeur ? Le résultat doit être présenté sous forme de \"pie chart\""
      ],
      "metadata": {
        "id": "ntE8Op3lvGwH"
      }
    },
    {
      "cell_type": "code",
      "source": [
        "import matplotlib.pyplot as plt\n",
        "count =df[\"smoking\"].value_counts()\n",
        "labels= [\"smoking\",\"non smoking\"]\n",
        "size=[count[1],count[0]]\n",
        "plt.pie(size,labels=labels)\n",
        "plt.show()"
      ],
      "metadata": {
        "id": "YHf_gtuOvo5-",
        "colab": {
          "base_uri": "https://localhost:8080/",
          "height": 406
        },
        "outputId": "aa206bcc-001b-4651-d651-4e5a1b675122"
      },
      "execution_count": null,
      "outputs": [
        {
          "output_type": "display_data",
          "data": {
            "text/plain": [
              "<Figure size 640x480 with 1 Axes>"
            ],
            "image/png": "[encoded data removed]"
          },
          "metadata": {}
        }
      ]
    },
    {
      "cell_type": "markdown",
      "source": [
        "Combien d'hommes? sont fumeurs ? Combien de femmes ? Afficher un histogramme"
      ],
      "metadata": {
        "id": "eBYrPWzAy7iy"
      }
    },
    {
      "cell_type": "code",
      "source": [
        "hommes_fumeurs = df[(df['gender'] == 'M') & (df['smoking'] == 1)].shape[0]\n",
        "femmes_fumeuses = df[(df['gender'] == 'F') & (df['smoking'] == 1)].shape[0]\n",
        "\n",
        "\n",
        "categories = ['Hommes', 'Femmes']\n",
        "nombre_fumeurs = [hommes_fumeurs, femmes_fumeuses]\n",
        "\n",
        "plt.bar(categories, nombre_fumeurs, color=['blue', 'pink'])\n",
        "plt.xlabel('Genre')\n",
        "plt.ylabel('Nombre de fumeurs')\n",
        "\n",
        "plt.show()"
      ],
      "metadata": {
        "colab": {
          "base_uri": "https://localhost:8080/",
          "height": 472
        },
        "id": "wIySflHpy8LT",
        "outputId": "bf617bd7-1497-4138-c26f-b0e36d0394b4"
      },
      "execution_count": null,
      "outputs": [
        {
          "output_type": "display_data",
          "data": {
            "text/plain": [
              "<Figure size 640x480 with 1 Axes>"
            ],
            "image/png": "[encoded data removed]"
          },
          "metadata": {}
        }
      ]
    },
    {
      "cell_type": "markdown",
      "source": [
        "Quelle est la moyenne d'age des hommes fumeurs ?"
      ],
      "metadata": {
        "id": "YYcQqLSs1MYK"
      }
    },
    {
      "cell_type": "code",
      "source": [
        "print(\"la moyenne d'age des hommes fumeurs est :\",df[(df['gender'] == \"M\") & (df['smoking'] == 1)]['age'].mean())"
      ],
      "metadata": {
        "colab": {
          "base_uri": "https://localhost:8080/"
        },
        "id": "NtpHxsBN1U46",
        "outputId": "8e4d4f1f-f175-4995-b1b1-cdb896b55084"
      },
      "execution_count": null,
      "outputs": [
        {
          "output_type": "stream",
          "name": "stdout",
          "text": [
            "la moyenne d'age des hommes fumeurs est : 43.437005664132265\n"
          ]
        }
      ]
    },
    {
      "cell_type": "markdown",
      "source": [
        "# * 2.4 Analyse de corrélation :\n",
        "\n",
        "Calculer et visualiser la matrice de corrélation, le but étant d'étudier la corrélation des variables entre elles. Questions :\n",
        "\n"
      ],
      "metadata": {
        "id": "oeGJU2zc2c4I"
      }
    },
    {
      "cell_type": "code",
      "source": [
        "df.corr()\n"
      ],
      "metadata": {
        "colab": {
          "base_uri": "https://localhost:8080/",
          "height": 316
        },
        "id": "t0gV0WOI2va_",
        "outputId": "82447850-4588-4cad-b931-8c5c53b6c8f7"
      },
      "execution_count": null,
      "outputs": [
        {
          "output_type": "error",
          "ename": "ValueError",
          "evalue": "could not convert string to float: 'F'",
          "traceback": [
            "\u001b[0;31m---------------------------------------------------------------------------\u001b[0m",
            "\u001b[0;31mValueError\u001b[0m                                Traceback (most recent call last)",
            "\u001b[0;32m<ipython-input-31-39aee4e3e86c>\u001b[0m in \u001b[0;36m<cell line: 1>\u001b[0;34m()\u001b[0m\n\u001b[0;32m----> 1\u001b[0;31m \u001b[0mcorrM\u001b[0m \u001b[0;34m=\u001b[0m \u001b[0mdf\u001b[0m\u001b[0;34m.\u001b[0m\u001b[0mcorr\u001b[0m\u001b[0;34m(\u001b[0m\u001b[0;34m)\u001b[0m\u001b[0;34m\u001b[0m\u001b[0;34m\u001b[0m\u001b[0m\n\u001b[0m\u001b[1;32m      2\u001b[0m \u001b[0mcorrM\u001b[0m\u001b[0;34m\u001b[0m\u001b[0;34m\u001b[0m\u001b[0m\n",
            "\u001b[0;32m/usr/local/lib/python3.10/dist-packages/pandas/core/frame.py\u001b[0m in \u001b[0;36mcorr\u001b[0;34m(self, method, min_periods, numeric_only)\u001b[0m\n\u001b[1;32m  10052\u001b[0m         \u001b[0mcols\u001b[0m \u001b[0;34m=\u001b[0m \u001b[0mdata\u001b[0m\u001b[0;34m.\u001b[0m\u001b[0mcolumns\u001b[0m\u001b[0;34m\u001b[0m\u001b[0;34m\u001b[0m\u001b[0m\n\u001b[1;32m  10053\u001b[0m         \u001b[0midx\u001b[0m \u001b[0;34m=\u001b[0m \u001b[0mcols\u001b[0m\u001b[0;34m.\u001b[0m\u001b[0mcopy\u001b[0m\u001b[0;34m(\u001b[0m\u001b[0;34m)\u001b[0m\u001b[0;34m\u001b[0m\u001b[0;34m\u001b[0m\u001b[0m\n\u001b[0;32m> 10054\u001b[0;31m         \u001b[0mmat\u001b[0m \u001b[0;34m=\u001b[0m \u001b[0mdata\u001b[0m\u001b[0;34m.\u001b[0m\u001b[0mto_numpy\u001b[0m\u001b[0;34m(\u001b[0m\u001b[0mdtype\u001b[0m\u001b[0;34m=\u001b[0m\u001b[0mfloat\u001b[0m\u001b[0;34m,\u001b[0m \u001b[0mna_value\u001b[0m\u001b[0;34m=\u001b[0m\u001b[0mnp\u001b[0m\u001b[0;34m.\u001b[0m\u001b[0mnan\u001b[0m\u001b[0;34m,\u001b[0m \u001b[0mcopy\u001b[0m\u001b[0;34m=\u001b[0m\u001b[0;32mFalse\u001b[0m\u001b[0;34m)\u001b[0m\u001b[0;34m\u001b[0m\u001b[0;34m\u001b[0m\u001b[0m\n\u001b[0m\u001b[1;32m  10055\u001b[0m \u001b[0;34m\u001b[0m\u001b[0m\n\u001b[1;32m  10056\u001b[0m         \u001b[0;32mif\u001b[0m \u001b[0mmethod\u001b[0m \u001b[0;34m==\u001b[0m \u001b[0;34m\"pearson\"\u001b[0m\u001b[0;34m:\u001b[0m\u001b[0;34m\u001b[0m\u001b[0;34m\u001b[0m\u001b[0m\n",
            "\u001b[0;32m/usr/local/lib/python3.10/dist-packages/pandas/core/frame.py\u001b[0m in \u001b[0;36mto_numpy\u001b[0;34m(self, dtype, copy, na_value)\u001b[0m\n\u001b[1;32m   1836\u001b[0m         \u001b[0;32mif\u001b[0m \u001b[0mdtype\u001b[0m \u001b[0;32mis\u001b[0m \u001b[0;32mnot\u001b[0m \u001b[0;32mNone\u001b[0m\u001b[0;34m:\u001b[0m\u001b[0;34m\u001b[0m\u001b[0;34m\u001b[0m\u001b[0m\n\u001b[1;32m   1837\u001b[0m             \u001b[0mdtype\u001b[0m \u001b[0;34m=\u001b[0m \u001b[0mnp\u001b[0m\u001b[0;34m.\u001b[0m\u001b[0mdtype\u001b[0m\u001b[0;34m(\u001b[0m\u001b[0mdtype\u001b[0m\u001b[0;34m)\u001b[0m\u001b[0;34m\u001b[0m\u001b[0;34m\u001b[0m\u001b[0m\n\u001b[0;32m-> 1838\u001b[0;31m         \u001b[0mresult\u001b[0m \u001b[0;34m=\u001b[0m \u001b[0mself\u001b[0m\u001b[0;34m.\u001b[0m\u001b[0m_mgr\u001b[0m\u001b[0;34m.\u001b[0m\u001b[0mas_array\u001b[0m\u001b[0;34m(\u001b[0m\u001b[0mdtype\u001b[0m\u001b[0;34m=\u001b[0m\u001b[0mdtype\u001b[0m\u001b[0;34m,\u001b[0m \u001b[0mcopy\u001b[0m\u001b[0;34m=\u001b[0m\u001b[0mcopy\u001b[0m\u001b[0;34m,\u001b[0m \u001b[0mna_value\u001b[0m\u001b[0;34m=\u001b[0m\u001b[0mna_value\u001b[0m\u001b[0;34m)\u001b[0m\u001b[0;34m\u001b[0m\u001b[0;34m\u001b[0m\u001b[0m\n\u001b[0m\u001b[1;32m   1839\u001b[0m         \u001b[0;32mif\u001b[0m \u001b[0mresult\u001b[0m\u001b[0;34m.\u001b[0m\u001b[0mdtype\u001b[0m \u001b[0;32mis\u001b[0m \u001b[0;32mnot\u001b[0m \u001b[0mdtype\u001b[0m\u001b[0;34m:\u001b[0m\u001b[0;34m\u001b[0m\u001b[0;34m\u001b[0m\u001b[0m\n\u001b[1;32m   1840\u001b[0m             \u001b[0mresult\u001b[0m \u001b[0;34m=\u001b[0m \u001b[0mnp\u001b[0m\u001b[0;34m.\u001b[0m\u001b[0marray\u001b[0m\u001b[0;34m(\u001b[0m\u001b[0mresult\u001b[0m\u001b[0;34m,\u001b[0m \u001b[0mdtype\u001b[0m\u001b[0;34m=\u001b[0m\u001b[0mdtype\u001b[0m\u001b[0;34m,\u001b[0m \u001b[0mcopy\u001b[0m\u001b[0;34m=\u001b[0m\u001b[0;32mFalse\u001b[0m\u001b[0;34m)\u001b[0m\u001b[0;34m\u001b[0m\u001b[0;34m\u001b[0m\u001b[0m\n",
            "\u001b[0;32m/usr/local/lib/python3.10/dist-packages/pandas/core/internals/managers.py\u001b[0m in \u001b[0;36mas_array\u001b[0;34m(self, dtype, copy, na_value)\u001b[0m\n\u001b[1;32m   1730\u001b[0m                 \u001b[0marr\u001b[0m\u001b[0;34m.\u001b[0m\u001b[0mflags\u001b[0m\u001b[0;34m.\u001b[0m\u001b[0mwriteable\u001b[0m \u001b[0;34m=\u001b[0m \u001b[0;32mFalse\u001b[0m\u001b[0;34m\u001b[0m\u001b[0;34m\u001b[0m\u001b[0m\n\u001b[1;32m   1731\u001b[0m         \u001b[0;32melse\u001b[0m\u001b[0;34m:\u001b[0m\u001b[0;34m\u001b[0m\u001b[0;34m\u001b[0m\u001b[0m\n\u001b[0;32m-> 1732\u001b[0;31m             \u001b[0marr\u001b[0m \u001b[0;34m=\u001b[0m \u001b[0mself\u001b[0m\u001b[0;34m.\u001b[0m\u001b[0m_interleave\u001b[0m\u001b[0;34m(\u001b[0m\u001b[0mdtype\u001b[0m\u001b[0;34m=\u001b[0m\u001b[0mdtype\u001b[0m\u001b[0;34m,\u001b[0m \u001b[0mna_value\u001b[0m\u001b[0;34m=\u001b[0m\u001b[0mna_value\u001b[0m\u001b[0;34m)\u001b[0m\u001b[0;34m\u001b[0m\u001b[0;34m\u001b[0m\u001b[0m\n\u001b[0m\u001b[1;32m   1733\u001b[0m             \u001b[0;31m# The underlying data was copied within _interleave, so no need\u001b[0m\u001b[0;34m\u001b[0m\u001b[0;34m\u001b[0m\u001b[0m\n\u001b[1;32m   1734\u001b[0m             \u001b[0;31m# to further copy if copy=True or setting na_value\u001b[0m\u001b[0;34m\u001b[0m\u001b[0;34m\u001b[0m\u001b[0m\n",
            "\u001b[0;32m/usr/local/lib/python3.10/dist-packages/pandas/core/internals/managers.py\u001b[0m in \u001b[0;36m_interleave\u001b[0;34m(self, dtype, na_value)\u001b[0m\n\u001b[1;32m   1792\u001b[0m             \u001b[0;32melse\u001b[0m\u001b[0;34m:\u001b[0m\u001b[0;34m\u001b[0m\u001b[0;34m\u001b[0m\u001b[0m\n\u001b[1;32m   1793\u001b[0m                 \u001b[0marr\u001b[0m \u001b[0;34m=\u001b[0m \u001b[0mblk\u001b[0m\u001b[0;34m.\u001b[0m\u001b[0mget_values\u001b[0m\u001b[0;34m(\u001b[0m\u001b[0mdtype\u001b[0m\u001b[0;34m)\u001b[0m\u001b[0;34m\u001b[0m\u001b[0;34m\u001b[0m\u001b[0m\n\u001b[0;32m-> 1794\u001b[0;31m             \u001b[0mresult\u001b[0m\u001b[0;34m[\u001b[0m\u001b[0mrl\u001b[0m\u001b[0;34m.\u001b[0m\u001b[0mindexer\u001b[0m\u001b[0;34m]\u001b[0m \u001b[0;34m=\u001b[0m \u001b[0marr\u001b[0m\u001b[0;34m\u001b[0m\u001b[0;34m\u001b[0m\u001b[0m\n\u001b[0m\u001b[1;32m   1795\u001b[0m             \u001b[0mitemmask\u001b[0m\u001b[0;34m[\u001b[0m\u001b[0mrl\u001b[0m\u001b[0;34m.\u001b[0m\u001b[0mindexer\u001b[0m\u001b[0;34m]\u001b[0m \u001b[0;34m=\u001b[0m \u001b[0;36m1\u001b[0m\u001b[0;34m\u001b[0m\u001b[0;34m\u001b[0m\u001b[0m\n\u001b[1;32m   1796\u001b[0m \u001b[0;34m\u001b[0m\u001b[0m\n",
            "\u001b[0;31mValueError\u001b[0m: could not convert string to float: 'F'"
          ]
        }
      ]
    },
    {
      "cell_type": "markdown",
      "source": [
        "# * 2.1 Gestion des Valeurs Manquantes :\n",
        "\n",
        "Décider d'une stratégie pour gérer les valeurs manquantes (par exemple, suppression, estimation). Implémenter la stratégie choisie.\n",
        "\n",
        "Questions :\n",
        "\n",
        "Quelle méthode avez-vous choisie pour gérer les valeurs manquantes et pourquoi ?\n",
        "\n",
        "remplacer par la moyenne de cette valeur selon fummeur ou non  pour les valeurs Nan\n",
        "et remplacer les string par des int\n",
        "\n",
        "\n",
        "Comment cette méthode impacte-t-elle les données ?\n",
        "\n",
        "variance plus petite\n",
        "conforte de model dans sa prediction,\n",
        "incertaint\n",
        "\n",
        "string->int  ne chaneg rien\n"
      ],
      "metadata": {
        "id": "EZ0_Yf-S3KjW"
      }
    },
    {
      "cell_type": "code",
      "source": [],
      "metadata": {
        "id": "QD2ccsgS3rV4"
      },
      "execution_count": null,
      "outputs": []
    },
    {
      "cell_type": "markdown",
      "source": [
        "# * 2.2 Encodage des catégories\n",
        "\n",
        "Encodez les variables en utilisant un OneHotEncorer\n",
        "\n",
        "tartare\n",
        "gender\n",
        "oral\n",
        "\n",
        "Questions :\n",
        "\n",
        "Quel autre traitement de la donnée pourriez-vous faire pour optimiser l'entraînement ?"
      ],
      "metadata": {
        "id": "QQHVeNpb5QPY"
      }
    },
    {
      "cell_type": "code",
      "source": [
        "from sklearn.preprocessing import OneHotEncoder"
      ],
      "metadata": {
        "id": "h82eO0Bh5fv3"
      },
      "execution_count": null,
      "outputs": []
    },
    {
      "cell_type": "code",
      "source": [
        "\n",
        "encoder = OneHotEncoder()\n",
        "\n",
        "# fct encoder et remplacer\n",
        "def encode_and_replace(df, column):\n",
        "    #transforme la colone en listes selon la liste origial\n",
        "    encoded = encoder.fit_transform(df[[column]]).toarray()\n",
        "    #releve le nom la colone original et les donne au autres\n",
        "    columns = encoder.get_feature_names_out([column])\n",
        "    df_encoded = pd.DataFrame(encoded, columns=columns)\n",
        "    #tej la colone or\n",
        "    df.drop(column, axis=1, inplace=True)\n",
        "    #rajoute les news colone\n",
        "    return pd.concat([df, df_encoded], axis=1)\n",
        "\n",
        "\n",
        "df = encode_and_replace(df, 'tartar')\n",
        "df = encode_and_replace(df, 'gender')\n",
        "df = encode_and_replace(df, 'oral')\n",
        "\n",
        "df.head()\n",
        "\n"
      ],
      "metadata": {
        "colab": {
          "base_uri": "https://localhost:8080/",
          "height": 270
        },
        "id": "B0gGJgKS5g36",
        "outputId": "693ae5d5-dd96-4c02-9ba8-86862ec3709c"
      },
      "execution_count": null,
      "outputs": [
        {
          "output_type": "execute_result",
          "data": {
            "text/plain": [
              "   ID   age  height(cm)  weight(kg)  waist(cm)  eyesight(left)  \\\n",
              "0   0  40.0         155        60.0       81.3             1.2   \n",
              "1   1  40.0         160        60.0       81.0             0.8   \n",
              "2   2  55.0         170        60.0       80.0             0.8   \n",
              "3   3  40.0         165        70.0       88.0             1.5   \n",
              "4   4  40.0         155        60.0       86.0             1.0   \n",
              "\n",
              "   eyesight(right)  hearing(left)  hearing(right)  systolic  ...   AST   ALT  \\\n",
              "0              1.0            1.0             1.0     114.0  ...  18.0  19.0   \n",
              "1              0.6            1.0             1.0     119.0  ...  22.0  19.0   \n",
              "2              0.8            1.0             1.0     138.0  ...  21.0  16.0   \n",
              "3              1.5            1.0             1.0     100.0  ...  19.0  26.0   \n",
              "4              1.0            1.0             1.0     120.0  ...  16.0  14.0   \n",
              "\n",
              "    Gtp  dental caries  smoking  tartar_N  tartar_Y  gender_F  gender_M  \\\n",
              "0  27.0              0        0       0.0       1.0       1.0       0.0   \n",
              "1  18.0              0        0       0.0       1.0       1.0       0.0   \n",
              "2  22.0              0        1       1.0       0.0       0.0       1.0   \n",
              "3  18.0              0        0       0.0       1.0       0.0       1.0   \n",
              "4  22.0              0        0       1.0       0.0       1.0       0.0   \n",
              "\n",
              "   oral_Y  \n",
              "0     1.0  \n",
              "1     1.0  \n",
              "2     1.0  \n",
              "3     1.0  \n",
              "4     1.0  \n",
              "\n",
              "[5 rows x 29 columns]"
            ],
            "text/html": [
              "\n",
              "  <div id=\"df-ec0dc53b-06c9-4ae9-8172-1a0a64ef139e\" class=\"colab-df-container\">\n",
              "    <div>\n",
              "<style scoped>\n",
              "    .dataframe tbody tr th:only-of-type {\n",
              "        vertical-align: middle;\n",
              "    }\n",
              "\n",
              "    .dataframe tbody tr th {\n",
              "        vertical-align: top;\n",
              "    }\n",
              "\n",
              "    .dataframe thead th {\n",
              "        text-align: right;\n",
              "    }\n",
              "</style>\n",
              "<table border=\"1\" class=\"dataframe\">\n",
              "  <thead>\n",
              "    <tr style=\"text-align: right;\">\n",
              "      <th></th>\n",
              "      <th>ID</th>\n",
              "      <th>age</th>\n",
              "      <th>height(cm)</th>\n",
              "      <th>weight(kg)</th>\n",
              "      <th>waist(cm)</th>\n",
              "      <th>eyesight(left)</th>\n",
              "      <th>eyesight(right)</th>\n",
              "      <th>hearing(left)</th>\n",
              "      <th>hearing(right)</th>\n",
              "      <th>systolic</th>\n",
              "      <th>...</th>\n",
              "      <th>AST</th>\n",
              "      <th>ALT</th>\n",
              "      <th>Gtp</th>\n",
              "      <th>dental caries</th>\n",
              "      <th>smoking</th>\n",
              "      <th>tartar_N</th>\n",
              "      <th>tartar_Y</th>\n",
              "      <th>gender_F</th>\n",
              "      <th>gender_M</th>\n",
              "      <th>oral_Y</th>\n",
              "    </tr>\n",
              "  </thead>\n",
              "  <tbody>\n",
              "    <tr>\n",
              "      <th>0</th>\n",
              "      <td>0</td>\n",
              "      <td>40.0</td>\n",
              "      <td>155</td>\n",
              "      <td>60.0</td>\n",
              "      <td>81.3</td>\n",
              "      <td>1.2</td>\n",
              "      <td>1.0</td>\n",
              "      <td>1.0</td>\n",
              "      <td>1.0</td>\n",
              "      <td>114.0</td>\n",
              "      <td>...</td>\n",
              "      <td>18.0</td>\n",
              "      <td>19.0</td>\n",
              "      <td>27.0</td>\n",
              "      <td>0</td>\n",
              "      <td>0</td>\n",
              "      <td>0.0</td>\n",
              "      <td>1.0</td>\n",
              "      <td>1.0</td>\n",
              "      <td>0.0</td>\n",
              "      <td>1.0</td>\n",
              "    </tr>\n",
              "    <tr>\n",
              "      <th>1</th>\n",
              "      <td>1</td>\n",
              "      <td>40.0</td>\n",
              "      <td>160</td>\n",
              "      <td>60.0</td>\n",
              "      <td>81.0</td>\n",
              "      <td>0.8</td>\n",
              "      <td>0.6</td>\n",
              "      <td>1.0</td>\n",
              "      <td>1.0</td>\n",
              "      <td>119.0</td>\n",
              "      <td>...</td>\n",
              "      <td>22.0</td>\n",
              "      <td>19.0</td>\n",
              "      <td>18.0</td>\n",
              "      <td>0</td>\n",
              "      <td>0</td>\n",
              "      <td>0.0</td>\n",
              "      <td>1.0</td>\n",
              "      <td>1.0</td>\n",
              "      <td>0.0</td>\n",
              "      <td>1.0</td>\n",
              "    </tr>\n",
              "    <tr>\n",
              "      <th>2</th>\n",
              "      <td>2</td>\n",
              "      <td>55.0</td>\n",
              "      <td>170</td>\n",
              "      <td>60.0</td>\n",
              "      <td>80.0</td>\n",
              "      <td>0.8</td>\n",
              "      <td>0.8</td>\n",
              "      <td>1.0</td>\n",
              "      <td>1.0</td>\n",
              "      <td>138.0</td>\n",
              "      <td>...</td>\n",
              "      <td>21.0</td>\n",
              "      <td>16.0</td>\n",
              "      <td>22.0</td>\n",
              "      <td>0</td>\n",
              "      <td>1</td>\n",
              "      <td>1.0</td>\n",
              "      <td>0.0</td>\n",
              "      <td>0.0</td>\n",
              "      <td>1.0</td>\n",
              "      <td>1.0</td>\n",
              "    </tr>\n",
              "    <tr>\n",
              "      <th>3</th>\n",
              "      <td>3</td>\n",
              "      <td>40.0</td>\n",
              "      <td>165</td>\n",
              "      <td>70.0</td>\n",
              "      <td>88.0</td>\n",
              "      <td>1.5</td>\n",
              "      <td>1.5</td>\n",
              "      <td>1.0</td>\n",
              "      <td>1.0</td>\n",
              "      <td>100.0</td>\n",
              "      <td>...</td>\n",
              "      <td>19.0</td>\n",
              "      <td>26.0</td>\n",
              "      <td>18.0</td>\n",
              "      <td>0</td>\n",
              "      <td>0</td>\n",
              "      <td>0.0</td>\n",
              "      <td>1.0</td>\n",
              "      <td>0.0</td>\n",
              "      <td>1.0</td>\n",
              "      <td>1.0</td>\n",
              "    </tr>\n",
              "    <tr>\n",
              "      <th>4</th>\n",
              "      <td>4</td>\n",
              "      <td>40.0</td>\n",
              "      <td>155</td>\n",
              "      <td>60.0</td>\n",
              "      <td>86.0</td>\n",
              "      <td>1.0</td>\n",
              "      <td>1.0</td>\n",
              "      <td>1.0</td>\n",
              "      <td>1.0</td>\n",
              "      <td>120.0</td>\n",
              "      <td>...</td>\n",
              "      <td>16.0</td>\n",
              "      <td>14.0</td>\n",
              "      <td>22.0</td>\n",
              "      <td>0</td>\n",
              "      <td>0</td>\n",
              "      <td>1.0</td>\n",
              "      <td>0.0</td>\n",
              "      <td>1.0</td>\n",
              "      <td>0.0</td>\n",
              "      <td>1.0</td>\n",
              "    </tr>\n",
              "  </tbody>\n",
              "</table>\n",
              "<p>5 rows × 29 columns</p>\n",
              "</div>\n",
              "    <div class=\"colab-df-buttons\">\n",
              "\n",
              "  <div class=\"colab-df-container\">\n",
              "    <button class=\"colab-df-convert\" onclick=\"convertToInteractive('df-ec0dc53b-06c9-4ae9-8172-1a0a64ef139e')\"\n",
              "            title=\"Convert this dataframe to an interactive table.\"\n",
              "            style=\"display:none;\">\n",
              "\n",
              "  <svg xmlns=\"http://www.w3.org/2000/svg\" height=\"24px\" viewBox=\"0 -960 960 960\">\n",
              "    <path d=\"M120-120v-720h720v720H120Zm60-500h600v-160H180v160Zm220 220h160v-160H400v160Zm0 220h160v-160H400v160ZM180-400h160v-160H180v160Zm440 0h160v-160H620v160ZM180-180h160v-160H180v160Zm440 0h160v-160H620v160Z\"/>\n",
              "  </svg>\n",
              "    </button>\n",
              "\n",
              "  <style>\n",
              "    .colab-df-container {\n",
              "      display:flex;\n",
              "      gap: 12px;\n",
              "    }\n",
              "\n",
              "    .colab-df-convert {\n",
              "      background-color: #E8F0FE;\n",
              "      border: none;\n",
              "      border-radius: 50%;\n",
              "      cursor: pointer;\n",
              "      display: none;\n",
              "      fill: #1967D2;\n",
              "      height: 32px;\n",
              "      padding: 0 0 0 0;\n",
              "      width: 32px;\n",
              "    }\n",
              "\n",
              "    .colab-df-convert:hover {\n",
              "      background-color: #E2EBFA;\n",
              "      box-shadow: 0px 1px 2px rgba(60, 64, 67, 0.3), 0px 1px 3px 1px rgba(60, 64, 67, 0.15);\n",
              "      fill: #174EA6;\n",
              "    }\n",
              "\n",
              "    .colab-df-buttons div {\n",
              "      margin-bottom: 4px;\n",
              "    }\n",
              "\n",
              "    [theme=dark] .colab-df-convert {\n",
              "      background-color: #3B4455;\n",
              "      fill: #D2E3FC;\n",
              "    }\n",
              "\n",
              "    [theme=dark] .colab-df-convert:hover {\n",
              "      background-color: #434B5C;\n",
              "      box-shadow: 0px 1px 3px 1px rgba(0, 0, 0, 0.15);\n",
              "      filter: drop-shadow(0px 1px 2px rgba(0, 0, 0, 0.3));\n",
              "      fill: #FFFFFF;\n",
              "    }\n",
              "  </style>\n",
              "\n",
              "    <script>\n",
              "      const buttonEl =\n",
              "        document.querySelector('#df-ec0dc53b-06c9-4ae9-8172-1a0a64ef139e button.colab-df-convert');\n",
              "      buttonEl.style.display =\n",
              "        google.colab.kernel.accessAllowed ? 'block' : 'none';\n",
              "\n",
              "      async function convertToInteractive(key) {\n",
              "        const element = document.querySelector('#df-ec0dc53b-06c9-4ae9-8172-1a0a64ef139e');\n",
              "        const dataTable =\n",
              "          await google.colab.kernel.invokeFunction('convertToInteractive',\n",
              "                                                    [key], {});\n",
              "        if (!dataTable) return;\n",
              "\n",
              "        const docLinkHtml = 'Like what you see? Visit the ' +\n",
              "          '<a target=\"_blank\" href=https://colab.research.google.com/notebooks/data_table.ipynb>data table notebook</a>'\n",
              "          + ' to learn more about interactive tables.';\n",
              "        element.innerHTML = '';\n",
              "        dataTable['output_type'] = 'display_data';\n",
              "        await google.colab.output.renderOutput(dataTable, element);\n",
              "        const docLink = document.createElement('div');\n",
              "        docLink.innerHTML = docLinkHtml;\n",
              "        element.appendChild(docLink);\n",
              "      }\n",
              "    </script>\n",
              "  </div>\n",
              "\n",
              "\n",
              "<div id=\"df-ec2da729-a608-4437-b892-cf10966e9797\">\n",
              "  <button class=\"colab-df-quickchart\" onclick=\"quickchart('df-ec2da729-a608-4437-b892-cf10966e9797')\"\n",
              "            title=\"Suggest charts\"\n",
              "            style=\"display:none;\">\n",
              "\n",
              "<svg xmlns=\"http://www.w3.org/2000/svg\" height=\"24px\"viewBox=\"0 0 24 24\"\n",
              "     width=\"24px\">\n",
              "    <g>\n",
              "        <path d=\"M19 3H5c-1.1 0-2 .9-2 2v14c0 1.1.9 2 2 2h14c1.1 0 2-.9 2-2V5c0-1.1-.9-2-2-2zM9 17H7v-7h2v7zm4 0h-2V7h2v10zm4 0h-2v-4h2v4z\"/>\n",
              "    </g>\n",
              "</svg>\n",
              "  </button>\n",
              "\n",
              "<style>\n",
              "  .colab-df-quickchart {\n",
              "      --bg-color: #E8F0FE;\n",
              "      --fill-color: #1967D2;\n",
              "      --hover-bg-color: #E2EBFA;\n",
              "      --hover-fill-color: #174EA6;\n",
              "      --disabled-fill-color: #AAA;\n",
              "      --disabled-bg-color: #DDD;\n",
              "  }\n",
              "\n",
              "  [theme=dark] .colab-df-quickchart {\n",
              "      --bg-color: #3B4455;\n",
              "      --fill-color: #D2E3FC;\n",
              "      --hover-bg-color: #434B5C;\n",
              "      --hover-fill-color: #FFFFFF;\n",
              "      --disabled-bg-color: #3B4455;\n",
              "      --disabled-fill-color: #666;\n",
              "  }\n",
              "\n",
              "  .colab-df-quickchart {\n",
              "    background-color: var(--bg-color);\n",
              "    border: none;\n",
              "    border-radius: 50%;\n",
              "    cursor: pointer;\n",
              "    display: none;\n",
              "    fill: var(--fill-color);\n",
              "    height: 32px;\n",
              "    padding: 0;\n",
              "    width: 32px;\n",
              "  }\n",
              "\n",
              "  .colab-df-quickchart:hover {\n",
              "    background-color: var(--hover-bg-color);\n",
              "    box-shadow: 0 1px 2px rgba(60, 64, 67, 0.3), 0 1px 3px 1px rgba(60, 64, 67, 0.15);\n",
              "    fill: var(--button-hover-fill-color);\n",
              "  }\n",
              "\n",
              "  .colab-df-quickchart-complete:disabled,\n",
              "  .colab-df-quickchart-complete:disabled:hover {\n",
              "    background-color: var(--disabled-bg-color);\n",
              "    fill: var(--disabled-fill-color);\n",
              "    box-shadow: none;\n",
              "  }\n",
              "\n",
              "  .colab-df-spinner {\n",
              "    border: 2px solid var(--fill-color);\n",
              "    border-color: transparent;\n",
              "    border-bottom-color: var(--fill-color);\n",
              "    animation:\n",
              "      spin 1s steps(1) infinite;\n",
              "  }\n",
              "\n",
              "  @keyframes spin {\n",
              "    0% {\n",
              "      border-color: transparent;\n",
              "      border-bottom-color: var(--fill-color);\n",
              "      border-left-color: var(--fill-color);\n",
              "    }\n",
              "    20% {\n",
              "      border-color: transparent;\n",
              "      border-left-color: var(--fill-color);\n",
              "      border-top-color: var(--fill-color);\n",
              "    }\n",
              "    30% {\n",
              "      border-color: transparent;\n",
              "      border-left-color: var(--fill-color);\n",
              "      border-top-color: var(--fill-color);\n",
              "      border-right-color: var(--fill-color);\n",
              "    }\n",
              "    40% {\n",
              "      border-color: transparent;\n",
              "      border-right-color: var(--fill-color);\n",
              "      border-top-color: var(--fill-color);\n",
              "    }\n",
              "    60% {\n",
              "      border-color: transparent;\n",
              "      border-right-color: var(--fill-color);\n",
              "    }\n",
              "    80% {\n",
              "      border-color: transparent;\n",
              "      border-right-color: var(--fill-color);\n",
              "      border-bottom-color: var(--fill-color);\n",
              "    }\n",
              "    90% {\n",
              "      border-color: transparent;\n",
              "      border-bottom-color: var(--fill-color);\n",
              "    }\n",
              "  }\n",
              "</style>\n",
              "\n",
              "  <script>\n",
              "    async function quickchart(key) {\n",
              "      const quickchartButtonEl =\n",
              "        document.querySelector('#' + key + ' button');\n",
              "      quickchartButtonEl.disabled = true;  // To prevent multiple clicks.\n",
              "      quickchartButtonEl.classList.add('colab-df-spinner');\n",
              "      try {\n",
              "        const charts = await google.colab.kernel.invokeFunction(\n",
              "            'suggestCharts', [key], {});\n",
              "      } catch (error) {\n",
              "        console.error('Error during call to suggestCharts:', error);\n",
              "      }\n",
              "      quickchartButtonEl.classList.remove('colab-df-spinner');\n",
              "      quickchartButtonEl.classList.add('colab-df-quickchart-complete');\n",
              "    }\n",
              "    (() => {\n",
              "      let quickchartButtonEl =\n",
              "        document.querySelector('#df-ec2da729-a608-4437-b892-cf10966e9797 button');\n",
              "      quickchartButtonEl.style.display =\n",
              "        google.colab.kernel.accessAllowed ? 'block' : 'none';\n",
              "    })();\n",
              "  </script>\n",
              "</div>\n",
              "    </div>\n",
              "  </div>\n"
            ],
            "application/vnd.google.colaboratory.intrinsic+json": {
              "type": "dataframe",
              "variable_name": "df"
            }
          },
          "metadata": {},
          "execution_count": 24
        }
      ]
    },
    {
      "cell_type": "code",
      "source": [
        "df.corr()"
      ],
      "metadata": {
        "colab": {
          "base_uri": "https://localhost:8080/",
          "height": 1000
        },
        "id": "NUd4VEhy-zwo",
        "outputId": "316b8c5d-dcf1-4290-bc9c-b436c8849794"
      },
      "execution_count": null,
      "outputs": [
        {
          "output_type": "execute_result",
          "data": {
            "text/plain": [
              "                           ID       age  height(cm)  weight(kg)  waist(cm)  \\\n",
              "ID                   1.000000  0.008014    0.006260    0.004720   0.005294   \n",
              "age                  0.008014  1.000000   -0.036183   -0.023614  -0.000855   \n",
              "height(cm)           0.006260 -0.036183    1.000000    0.675654   0.378907   \n",
              "weight(kg)           0.004720 -0.023614    0.675654    1.000000   0.822852   \n",
              "waist(cm)            0.005294 -0.000855    0.378907    0.822852   1.000000   \n",
              "eyesight(left)       0.009605 -0.014966    0.151130    0.108425   0.027450   \n",
              "eyesight(right)      0.003093 -0.016279    0.155661    0.113134   0.037972   \n",
              "hearing(left)        0.002656  0.013707   -0.078658   -0.050084   0.023797   \n",
              "hearing(right)      -0.004979  0.014034   -0.078318   -0.052826   0.019294   \n",
              "systolic             0.002464  0.010474    0.080598    0.266149   0.316939   \n",
              "relaxation           0.004587  0.003089    0.113208    0.271662   0.292654   \n",
              "fasting blood sugar  0.001446  0.009462    0.019636    0.136252   0.211140   \n",
              "Cholesterol         -0.001127  0.005777   -0.082145    0.026441   0.065511   \n",
              "triglyceride         0.002253  0.001669    0.156701    0.324453   0.361947   \n",
              "HDL                 -0.005453 -0.006160   -0.213280   -0.358887  -0.376236   \n",
              "LDL                  0.001412  0.006725   -0.048405    0.040598   0.072865   \n",
              "hemoglobin           0.006409 -0.017857    0.539367    0.492987   0.387093   \n",
              "Urine protein        0.000355  0.001096    0.005134    0.032576   0.045501   \n",
              "serum creatinine     0.003739 -0.009626    0.383885    0.324831   0.235056   \n",
              "AST                 -0.001900  0.002108    0.041744    0.120146   0.142706   \n",
              "ALT                 -0.002840 -0.004416    0.126518    0.250650   0.252494   \n",
              "Gtp                  0.000777  0.000801    0.139728    0.209644   0.243161   \n",
              "dental caries        0.000576 -0.010579    0.079344    0.073561   0.044228   \n",
              "smoking              0.011444 -0.006335    0.396662    0.302800   0.226295   \n",
              "tartar_N            -0.002460  0.002502   -0.055504   -0.059930  -0.046216   \n",
              "tartar_Y             0.002460 -0.002502    0.055504    0.059930   0.046216   \n",
              "gender_F            -0.008620  0.017319   -0.741537   -0.574967  -0.419598   \n",
              "gender_M             0.008620 -0.017319    0.741537    0.574967   0.419598   \n",
              "oral_Y                    NaN       NaN         NaN         NaN        NaN   \n",
              "\n",
              "                     eyesight(left)  eyesight(right)  hearing(left)  \\\n",
              "ID                         0.009605         0.003093       0.002656   \n",
              "age                       -0.014966        -0.016279       0.013707   \n",
              "height(cm)                 0.151130         0.155661      -0.078658   \n",
              "weight(kg)                 0.108425         0.113134      -0.050084   \n",
              "waist(cm)                  0.027450         0.037972       0.023797   \n",
              "eyesight(left)             1.000000         0.354576      -0.046569   \n",
              "eyesight(right)            0.354576         1.000000      -0.043877   \n",
              "hearing(left)             -0.046569        -0.043877       1.000000   \n",
              "hearing(right)            -0.048786        -0.046623       0.510096   \n",
              "systolic                  -0.019347        -0.013735       0.055219   \n",
              "relaxation                 0.005190         0.011345       0.008760   \n",
              "fasting blood sugar       -0.041853        -0.044003       0.042318   \n",
              "Cholesterol               -0.004995        -0.007870      -0.023272   \n",
              "triglyceride               0.019715         0.019867       0.004756   \n",
              "HDL                       -0.015277        -0.022183      -0.020158   \n",
              "LDL                       -0.007271        -0.006197      -0.016704   \n",
              "hemoglobin                 0.095230         0.096101      -0.026110   \n",
              "Urine protein             -0.002751        -0.013511       0.014530   \n",
              "serum creatinine           0.071417         0.047598       0.003357   \n",
              "AST                       -0.007965        -0.006926       0.018077   \n",
              "ALT                        0.019324         0.024174       0.004823   \n",
              "Gtp                        0.003850         0.012187       0.012869   \n",
              "dental caries              0.003687         0.016357      -0.016094   \n",
              "smoking                    0.061197         0.062989      -0.023205   \n",
              "tartar_N                  -0.012543        -0.006556       0.035393   \n",
              "tartar_Y                   0.012543         0.006556      -0.035393   \n",
              "gender_F                  -0.127401        -0.125647       0.009404   \n",
              "gender_M                   0.127401         0.125647      -0.009404   \n",
              "oral_Y                          NaN              NaN            NaN   \n",
              "\n",
              "                     hearing(right)  systolic  ...       AST       ALT  \\\n",
              "ID                        -0.004979  0.002464  ... -0.001900 -0.002840   \n",
              "age                        0.014034  0.010474  ...  0.002108 -0.004416   \n",
              "height(cm)                -0.078318  0.080598  ...  0.041744  0.126518   \n",
              "weight(kg)                -0.052826  0.266149  ...  0.120146  0.250650   \n",
              "waist(cm)                  0.019294  0.316939  ...  0.142706  0.252494   \n",
              "eyesight(left)            -0.048786 -0.019347  ... -0.007965  0.019324   \n",
              "eyesight(right)           -0.046623 -0.013735  ... -0.006926  0.024174   \n",
              "hearing(left)              0.510096  0.055219  ...  0.018077  0.004823   \n",
              "hearing(right)             1.000000  0.049096  ...  0.009397 -0.005078   \n",
              "systolic                   0.049096  1.000000  ...  0.083208  0.094902   \n",
              "relaxation                 0.001656  0.761055  ...  0.085160  0.106661   \n",
              "fasting blood sugar        0.041343  0.172713  ...  0.068777  0.087621   \n",
              "Cholesterol               -0.023054  0.059605  ...  0.026605  0.050691   \n",
              "triglyceride               0.000272  0.198834  ...  0.101709  0.175178   \n",
              "HDL                       -0.017986 -0.088531  ... -0.036717 -0.128810   \n",
              "LDL                       -0.015424  0.016613  ...  0.000400  0.031591   \n",
              "hemoglobin                -0.030938  0.186523  ...  0.120587  0.202038   \n",
              "Urine protein              0.019464  0.046172  ...  0.052199  0.040075   \n",
              "serum creatinine           0.008068  0.072278  ...  0.048566  0.083618   \n",
              "AST                        0.009397  0.083208  ...  1.000000  0.740728   \n",
              "ALT                       -0.005078  0.094902  ...  0.740728  1.000000   \n",
              "Gtp                        0.009249  0.165729  ...  0.379965  0.343941   \n",
              "dental caries             -0.016369  0.029900  ...  0.007249  0.022608   \n",
              "smoking                   -0.018852  0.073123  ...  0.059266  0.097353   \n",
              "tartar_N                   0.026696 -0.006510  ...  0.001656 -0.019993   \n",
              "tartar_Y                  -0.026696  0.006510  ... -0.001656  0.019993   \n",
              "gender_F                   0.011575 -0.167335  ... -0.095728 -0.167917   \n",
              "gender_M                  -0.011575  0.167335  ...  0.095728  0.167917   \n",
              "oral_Y                          NaN       NaN  ...       NaN       NaN   \n",
              "\n",
              "                          Gtp  dental caries   smoking  tartar_N  tartar_Y  \\\n",
              "ID                   0.000777       0.000576  0.011444 -0.002460  0.002460   \n",
              "age                  0.000801      -0.010579 -0.006335  0.002502 -0.002502   \n",
              "height(cm)           0.139728       0.079344  0.396662 -0.055504  0.055504   \n",
              "weight(kg)           0.209644       0.073561  0.302800 -0.059930  0.059930   \n",
              "waist(cm)            0.243161       0.044228  0.226295 -0.046216  0.046216   \n",
              "eyesight(left)       0.003850       0.003687  0.061197 -0.012543  0.012543   \n",
              "eyesight(right)      0.012187       0.016357  0.062989 -0.006556  0.006556   \n",
              "hearing(left)        0.012869      -0.016094 -0.023205  0.035393 -0.035393   \n",
              "hearing(right)       0.009249      -0.016369 -0.018852  0.026696 -0.026696   \n",
              "systolic             0.165729       0.029900  0.073123 -0.006510  0.006510   \n",
              "relaxation           0.177661       0.031651  0.108327 -0.021641  0.021641   \n",
              "fasting blood sugar  0.182417       0.001245  0.100264 -0.010883  0.010883   \n",
              "Cholesterol          0.083544      -0.001109 -0.028515 -0.015252  0.015252   \n",
              "triglyceride         0.301889       0.028327  0.251822 -0.042293  0.042293   \n",
              "HDL                 -0.054342      -0.026985 -0.178518  0.036862 -0.036862   \n",
              "LDL                 -0.007857      -0.001810 -0.045178 -0.010373  0.010373   \n",
              "hemoglobin           0.223857       0.067998  0.400690 -0.054016  0.054016   \n",
              "Urine protein        0.064378       0.000640  0.014270  0.011987 -0.011987   \n",
              "serum creatinine     0.102430       0.027480  0.216823 -0.028620  0.028620   \n",
              "AST                  0.379965       0.007249  0.059266  0.001656 -0.001656   \n",
              "ALT                  0.343941       0.022608  0.097353 -0.019993  0.019993   \n",
              "Gtp                  1.000000       0.039831  0.236631 -0.034357  0.034357   \n",
              "dental caries        0.039831       1.000000  0.103862 -0.173100  0.173100   \n",
              "smoking              0.236631       0.103862  1.000000 -0.098688  0.098688   \n",
              "tartar_N            -0.034357      -0.173100 -0.098688  1.000000 -1.000000   \n",
              "tartar_Y             0.034357       0.173100  0.098688 -1.000000  1.000000   \n",
              "gender_F            -0.237279      -0.084414 -0.510346  0.055471 -0.055471   \n",
              "gender_M             0.237279       0.084414  0.510346 -0.055471  0.055471   \n",
              "oral_Y                    NaN            NaN       NaN       NaN       NaN   \n",
              "\n",
              "                     gender_F  gender_M  oral_Y  \n",
              "ID                  -0.008620  0.008620     NaN  \n",
              "age                  0.017319 -0.017319     NaN  \n",
              "height(cm)          -0.741537  0.741537     NaN  \n",
              "weight(kg)          -0.574967  0.574967     NaN  \n",
              "waist(cm)           -0.419598  0.419598     NaN  \n",
              "eyesight(left)      -0.127401  0.127401     NaN  \n",
              "eyesight(right)     -0.125647  0.125647     NaN  \n",
              "hearing(left)        0.009404 -0.009404     NaN  \n",
              "hearing(right)       0.011575 -0.011575     NaN  \n",
              "systolic            -0.167335  0.167335     NaN  \n",
              "relaxation          -0.177923  0.177923     NaN  \n",
              "fasting blood sugar -0.098130  0.098130     NaN  \n",
              "Cholesterol          0.085208 -0.085208     NaN  \n",
              "triglyceride        -0.241536  0.241536     NaN  \n",
              "HDL                  0.306788 -0.306788     NaN  \n",
              "LDL                  0.042449 -0.042449     NaN  \n",
              "hemoglobin          -0.702215  0.702215     NaN  \n",
              "Urine protein       -0.015911  0.015911     NaN  \n",
              "serum creatinine    -0.507233  0.507233     NaN  \n",
              "AST                 -0.095728  0.095728     NaN  \n",
              "ALT                 -0.167917  0.167917     NaN  \n",
              "Gtp                 -0.237279  0.237279     NaN  \n",
              "dental caries       -0.084414  0.084414     NaN  \n",
              "smoking             -0.510346  0.510346     NaN  \n",
              "tartar_N             0.055471 -0.055471     NaN  \n",
              "tartar_Y            -0.055471  0.055471     NaN  \n",
              "gender_F             1.000000 -1.000000     NaN  \n",
              "gender_M            -1.000000  1.000000     NaN  \n",
              "oral_Y                    NaN       NaN     NaN  \n",
              "\n",
              "[29 rows x 29 columns]"
            ],
            "text/html": [
              "\n",
              "  <div id=\"df-b666d8ba-c717-47f1-b320-5547b6f5fe26\" class=\"colab-df-container\">\n",
              "    <div>\n",
              "<style scoped>\n",
              "    .dataframe tbody tr th:only-of-type {\n",
              "        vertical-align: middle;\n",
              "    }\n",
              "\n",
              "    .dataframe tbody tr th {\n",
              "        vertical-align: top;\n",
              "    }\n",
              "\n",
              "    .dataframe thead th {\n",
              "        text-align: right;\n",
              "    }\n",
              "</style>\n",
              "<table border=\"1\" class=\"dataframe\">\n",
              "  <thead>\n",
              "    <tr style=\"text-align: right;\">\n",
              "      <th></th>\n",
              "      <th>ID</th>\n",
              "      <th>age</th>\n",
              "      <th>height(cm)</th>\n",
              "      <th>weight(kg)</th>\n",
              "      <th>waist(cm)</th>\n",
              "      <th>eyesight(left)</th>\n",
              "      <th>eyesight(right)</th>\n",
              "      <th>hearing(left)</th>\n",
              "      <th>hearing(right)</th>\n",
              "      <th>systolic</th>\n",
              "      <th>...</th>\n",
              "      <th>AST</th>\n",
              "      <th>ALT</th>\n",
              "      <th>Gtp</th>\n",
              "      <th>dental caries</th>\n",
              "      <th>smoking</th>\n",
              "      <th>tartar_N</th>\n",
              "      <th>tartar_Y</th>\n",
              "      <th>gender_F</th>\n",
              "      <th>gender_M</th>\n",
              "      <th>oral_Y</th>\n",
              "    </tr>\n",
              "  </thead>\n",
              "  <tbody>\n",
              "    <tr>\n",
              "      <th>ID</th>\n",
              "      <td>1.000000</td>\n",
              "      <td>0.008014</td>\n",
              "      <td>0.006260</td>\n",
              "      <td>0.004720</td>\n",
              "      <td>0.005294</td>\n",
              "      <td>0.009605</td>\n",
              "      <td>0.003093</td>\n",
              "      <td>0.002656</td>\n",
              "      <td>-0.004979</td>\n",
              "      <td>0.002464</td>\n",
              "      <td>...</td>\n",
              "      <td>-0.001900</td>\n",
              "      <td>-0.002840</td>\n",
              "      <td>0.000777</td>\n",
              "      <td>0.000576</td>\n",
              "      <td>0.011444</td>\n",
              "      <td>-0.002460</td>\n",
              "      <td>0.002460</td>\n",
              "      <td>-0.008620</td>\n",
              "      <td>0.008620</td>\n",
              "      <td>NaN</td>\n",
              "    </tr>\n",
              "    <tr>\n",
              "      <th>age</th>\n",
              "      <td>0.008014</td>\n",
              "      <td>1.000000</td>\n",
              "      <td>-0.036183</td>\n",
              "      <td>-0.023614</td>\n",
              "      <td>-0.000855</td>\n",
              "      <td>-0.014966</td>\n",
              "      <td>-0.016279</td>\n",
              "      <td>0.013707</td>\n",
              "      <td>0.014034</td>\n",
              "      <td>0.010474</td>\n",
              "      <td>...</td>\n",
              "      <td>0.002108</td>\n",
              "      <td>-0.004416</td>\n",
              "      <td>0.000801</td>\n",
              "      <td>-0.010579</td>\n",
              "      <td>-0.006335</td>\n",
              "      <td>0.002502</td>\n",
              "      <td>-0.002502</td>\n",
              "      <td>0.017319</td>\n",
              "      <td>-0.017319</td>\n",
              "      <td>NaN</td>\n",
              "    </tr>\n",
              "    <tr>\n",
              "      <th>height(cm)</th>\n",
              "      <td>0.006260</td>\n",
              "      <td>-0.036183</td>\n",
              "      <td>1.000000</td>\n",
              "      <td>0.675654</td>\n",
              "      <td>0.378907</td>\n",
              "      <td>0.151130</td>\n",
              "      <td>0.155661</td>\n",
              "      <td>-0.078658</td>\n",
              "      <td>-0.078318</td>\n",
              "      <td>0.080598</td>\n",
              "      <td>...</td>\n",
              "      <td>0.041744</td>\n",
              "      <td>0.126518</td>\n",
              "      <td>0.139728</td>\n",
              "      <td>0.079344</td>\n",
              "      <td>0.396662</td>\n",
              "      <td>-0.055504</td>\n",
              "      <td>0.055504</td>\n",
              "      <td>-0.741537</td>\n",
              "      <td>0.741537</td>\n",
              "      <td>NaN</td>\n",
              "    </tr>\n",
              "    <tr>\n",
              "      <th>weight(kg)</th>\n",
              "      <td>0.004720</td>\n",
              "      <td>-0.023614</td>\n",
              "      <td>0.675654</td>\n",
              "      <td>1.000000</td>\n",
              "      <td>0.822852</td>\n",
              "      <td>0.108425</td>\n",
              "      <td>0.113134</td>\n",
              "      <td>-0.050084</td>\n",
              "      <td>-0.052826</td>\n",
              "      <td>0.266149</td>\n",
              "      <td>...</td>\n",
              "      <td>0.120146</td>\n",
              "      <td>0.250650</td>\n",
              "      <td>0.209644</td>\n",
              "      <td>0.073561</td>\n",
              "      <td>0.302800</td>\n",
              "      <td>-0.059930</td>\n",
              "      <td>0.059930</td>\n",
              "      <td>-0.574967</td>\n",
              "      <td>0.574967</td>\n",
              "      <td>NaN</td>\n",
              "    </tr>\n",
              "    <tr>\n",
              "      <th>waist(cm)</th>\n",
              "      <td>0.005294</td>\n",
              "      <td>-0.000855</td>\n",
              "      <td>0.378907</td>\n",
              "      <td>0.822852</td>\n",
              "      <td>1.000000</td>\n",
              "      <td>0.027450</td>\n",
              "      <td>0.037972</td>\n",
              "      <td>0.023797</td>\n",
              "      <td>0.019294</td>\n",
              "      <td>0.316939</td>\n",
              "      <td>...</td>\n",
              "      <td>0.142706</td>\n",
              "      <td>0.252494</td>\n",
              "      <td>0.243161</td>\n",
              "      <td>0.044228</td>\n",
              "      <td>0.226295</td>\n",
              "      <td>-0.046216</td>\n",
              "      <td>0.046216</td>\n",
              "      <td>-0.419598</td>\n",
              "      <td>0.419598</td>\n",
              "      <td>NaN</td>\n",
              "    </tr>\n",
              "    <tr>\n",
              "      <th>eyesight(left)</th>\n",
              "      <td>0.009605</td>\n",
              "      <td>-0.014966</td>\n",
              "      <td>0.151130</td>\n",
              "      <td>0.108425</td>\n",
              "      <td>0.027450</td>\n",
              "      <td>1.000000</td>\n",
              "      <td>0.354576</td>\n",
              "      <td>-0.046569</td>\n",
              "      <td>-0.048786</td>\n",
              "      <td>-0.019347</td>\n",
              "      <td>...</td>\n",
              "      <td>-0.007965</td>\n",
              "      <td>0.019324</td>\n",
              "      <td>0.003850</td>\n",
              "      <td>0.003687</td>\n",
              "      <td>0.061197</td>\n",
              "      <td>-0.012543</td>\n",
              "      <td>0.012543</td>\n",
              "      <td>-0.127401</td>\n",
              "      <td>0.127401</td>\n",
              "      <td>NaN</td>\n",
              "    </tr>\n",
              "    <tr>\n",
              "      <th>eyesight(right)</th>\n",
              "      <td>0.003093</td>\n",
              "      <td>-0.016279</td>\n",
              "      <td>0.155661</td>\n",
              "      <td>0.113134</td>\n",
              "      <td>0.037972</td>\n",
              "      <td>0.354576</td>\n",
              "      <td>1.000000</td>\n",
              "      <td>-0.043877</td>\n",
              "      <td>-0.046623</td>\n",
              "      <td>-0.013735</td>\n",
              "      <td>...</td>\n",
              "      <td>-0.006926</td>\n",
              "      <td>0.024174</td>\n",
              "      <td>0.012187</td>\n",
              "      <td>0.016357</td>\n",
              "      <td>0.062989</td>\n",
              "      <td>-0.006556</td>\n",
              "      <td>0.006556</td>\n",
              "      <td>-0.125647</td>\n",
              "      <td>0.125647</td>\n",
              "      <td>NaN</td>\n",
              "    </tr>\n",
              "    <tr>\n",
              "      <th>hearing(left)</th>\n",
              "      <td>0.002656</td>\n",
              "      <td>0.013707</td>\n",
              "      <td>-0.078658</td>\n",
              "      <td>-0.050084</td>\n",
              "      <td>0.023797</td>\n",
              "      <td>-0.046569</td>\n",
              "      <td>-0.043877</td>\n",
              "      <td>1.000000</td>\n",
              "      <td>0.510096</td>\n",
              "      <td>0.055219</td>\n",
              "      <td>...</td>\n",
              "      <td>0.018077</td>\n",
              "      <td>0.004823</td>\n",
              "      <td>0.012869</td>\n",
              "      <td>-0.016094</td>\n",
              "      <td>-0.023205</td>\n",
              "      <td>0.035393</td>\n",
              "      <td>-0.035393</td>\n",
              "      <td>0.009404</td>\n",
              "      <td>-0.009404</td>\n",
              "      <td>NaN</td>\n",
              "    </tr>\n",
              "    <tr>\n",
              "      <th>hearing(right)</th>\n",
              "      <td>-0.004979</td>\n",
              "      <td>0.014034</td>\n",
              "      <td>-0.078318</td>\n",
              "      <td>-0.052826</td>\n",
              "      <td>0.019294</td>\n",
              "      <td>-0.048786</td>\n",
              "      <td>-0.046623</td>\n",
              "      <td>0.510096</td>\n",
              "      <td>1.000000</td>\n",
              "      <td>0.049096</td>\n",
              "      <td>...</td>\n",
              "      <td>0.009397</td>\n",
              "      <td>-0.005078</td>\n",
              "      <td>0.009249</td>\n",
              "      <td>-0.016369</td>\n",
              "      <td>-0.018852</td>\n",
              "      <td>0.026696</td>\n",
              "      <td>-0.026696</td>\n",
              "      <td>0.011575</td>\n",
              "      <td>-0.011575</td>\n",
              "      <td>NaN</td>\n",
              "    </tr>\n",
              "    <tr>\n",
              "      <th>systolic</th>\n",
              "      <td>0.002464</td>\n",
              "      <td>0.010474</td>\n",
              "      <td>0.080598</td>\n",
              "      <td>0.266149</td>\n",
              "      <td>0.316939</td>\n",
              "      <td>-0.019347</td>\n",
              "      <td>-0.013735</td>\n",
              "      <td>0.055219</td>\n",
              "      <td>0.049096</td>\n",
              "      <td>1.000000</td>\n",
              "      <td>...</td>\n",
              "      <td>0.083208</td>\n",
              "      <td>0.094902</td>\n",
              "      <td>0.165729</td>\n",
              "      <td>0.029900</td>\n",
              "      <td>0.073123</td>\n",
              "      <td>-0.006510</td>\n",
              "      <td>0.006510</td>\n",
              "      <td>-0.167335</td>\n",
              "      <td>0.167335</td>\n",
              "      <td>NaN</td>\n",
              "    </tr>\n",
              "    <tr>\n",
              "      <th>relaxation</th>\n",
              "      <td>0.004587</td>\n",
              "      <td>0.003089</td>\n",
              "      <td>0.113208</td>\n",
              "      <td>0.271662</td>\n",
              "      <td>0.292654</td>\n",
              "      <td>0.005190</td>\n",
              "      <td>0.011345</td>\n",
              "      <td>0.008760</td>\n",
              "      <td>0.001656</td>\n",
              "      <td>0.761055</td>\n",
              "      <td>...</td>\n",
              "      <td>0.085160</td>\n",
              "      <td>0.106661</td>\n",
              "      <td>0.177661</td>\n",
              "      <td>0.031651</td>\n",
              "      <td>0.108327</td>\n",
              "      <td>-0.021641</td>\n",
              "      <td>0.021641</td>\n",
              "      <td>-0.177923</td>\n",
              "      <td>0.177923</td>\n",
              "      <td>NaN</td>\n",
              "    </tr>\n",
              "    <tr>\n",
              "      <th>fasting blood sugar</th>\n",
              "      <td>0.001446</td>\n",
              "      <td>0.009462</td>\n",
              "      <td>0.019636</td>\n",
              "      <td>0.136252</td>\n",
              "      <td>0.211140</td>\n",
              "      <td>-0.041853</td>\n",
              "      <td>-0.044003</td>\n",
              "      <td>0.042318</td>\n",
              "      <td>0.041343</td>\n",
              "      <td>0.172713</td>\n",
              "      <td>...</td>\n",
              "      <td>0.068777</td>\n",
              "      <td>0.087621</td>\n",
              "      <td>0.182417</td>\n",
              "      <td>0.001245</td>\n",
              "      <td>0.100264</td>\n",
              "      <td>-0.010883</td>\n",
              "      <td>0.010883</td>\n",
              "      <td>-0.098130</td>\n",
              "      <td>0.098130</td>\n",
              "      <td>NaN</td>\n",
              "    </tr>\n",
              "    <tr>\n",
              "      <th>Cholesterol</th>\n",
              "      <td>-0.001127</td>\n",
              "      <td>0.005777</td>\n",
              "      <td>-0.082145</td>\n",
              "      <td>0.026441</td>\n",
              "      <td>0.065511</td>\n",
              "      <td>-0.004995</td>\n",
              "      <td>-0.007870</td>\n",
              "      <td>-0.023272</td>\n",
              "      <td>-0.023054</td>\n",
              "      <td>0.059605</td>\n",
              "      <td>...</td>\n",
              "      <td>0.026605</td>\n",
              "      <td>0.050691</td>\n",
              "      <td>0.083544</td>\n",
              "      <td>-0.001109</td>\n",
              "      <td>-0.028515</td>\n",
              "      <td>-0.015252</td>\n",
              "      <td>0.015252</td>\n",
              "      <td>0.085208</td>\n",
              "      <td>-0.085208</td>\n",
              "      <td>NaN</td>\n",
              "    </tr>\n",
              "    <tr>\n",
              "      <th>triglyceride</th>\n",
              "      <td>0.002253</td>\n",
              "      <td>0.001669</td>\n",
              "      <td>0.156701</td>\n",
              "      <td>0.324453</td>\n",
              "      <td>0.361947</td>\n",
              "      <td>0.019715</td>\n",
              "      <td>0.019867</td>\n",
              "      <td>0.004756</td>\n",
              "      <td>0.000272</td>\n",
              "      <td>0.198834</td>\n",
              "      <td>...</td>\n",
              "      <td>0.101709</td>\n",
              "      <td>0.175178</td>\n",
              "      <td>0.301889</td>\n",
              "      <td>0.028327</td>\n",
              "      <td>0.251822</td>\n",
              "      <td>-0.042293</td>\n",
              "      <td>0.042293</td>\n",
              "      <td>-0.241536</td>\n",
              "      <td>0.241536</td>\n",
              "      <td>NaN</td>\n",
              "    </tr>\n",
              "    <tr>\n",
              "      <th>HDL</th>\n",
              "      <td>-0.005453</td>\n",
              "      <td>-0.006160</td>\n",
              "      <td>-0.213280</td>\n",
              "      <td>-0.358887</td>\n",
              "      <td>-0.376236</td>\n",
              "      <td>-0.015277</td>\n",
              "      <td>-0.022183</td>\n",
              "      <td>-0.020158</td>\n",
              "      <td>-0.017986</td>\n",
              "      <td>-0.088531</td>\n",
              "      <td>...</td>\n",
              "      <td>-0.036717</td>\n",
              "      <td>-0.128810</td>\n",
              "      <td>-0.054342</td>\n",
              "      <td>-0.026985</td>\n",
              "      <td>-0.178518</td>\n",
              "      <td>0.036862</td>\n",
              "      <td>-0.036862</td>\n",
              "      <td>0.306788</td>\n",
              "      <td>-0.306788</td>\n",
              "      <td>NaN</td>\n",
              "    </tr>\n",
              "    <tr>\n",
              "      <th>LDL</th>\n",
              "      <td>0.001412</td>\n",
              "      <td>0.006725</td>\n",
              "      <td>-0.048405</td>\n",
              "      <td>0.040598</td>\n",
              "      <td>0.072865</td>\n",
              "      <td>-0.007271</td>\n",
              "      <td>-0.006197</td>\n",
              "      <td>-0.016704</td>\n",
              "      <td>-0.015424</td>\n",
              "      <td>0.016613</td>\n",
              "      <td>...</td>\n",
              "      <td>0.000400</td>\n",
              "      <td>0.031591</td>\n",
              "      <td>-0.007857</td>\n",
              "      <td>-0.001810</td>\n",
              "      <td>-0.045178</td>\n",
              "      <td>-0.010373</td>\n",
              "      <td>0.010373</td>\n",
              "      <td>0.042449</td>\n",
              "      <td>-0.042449</td>\n",
              "      <td>NaN</td>\n",
              "    </tr>\n",
              "    <tr>\n",
              "      <th>hemoglobin</th>\n",
              "      <td>0.006409</td>\n",
              "      <td>-0.017857</td>\n",
              "      <td>0.539367</td>\n",
              "      <td>0.492987</td>\n",
              "      <td>0.387093</td>\n",
              "      <td>0.095230</td>\n",
              "      <td>0.096101</td>\n",
              "      <td>-0.026110</td>\n",
              "      <td>-0.030938</td>\n",
              "      <td>0.186523</td>\n",
              "      <td>...</td>\n",
              "      <td>0.120587</td>\n",
              "      <td>0.202038</td>\n",
              "      <td>0.223857</td>\n",
              "      <td>0.067998</td>\n",
              "      <td>0.400690</td>\n",
              "      <td>-0.054016</td>\n",
              "      <td>0.054016</td>\n",
              "      <td>-0.702215</td>\n",
              "      <td>0.702215</td>\n",
              "      <td>NaN</td>\n",
              "    </tr>\n",
              "    <tr>\n",
              "      <th>Urine protein</th>\n",
              "      <td>0.000355</td>\n",
              "      <td>0.001096</td>\n",
              "      <td>0.005134</td>\n",
              "      <td>0.032576</td>\n",
              "      <td>0.045501</td>\n",
              "      <td>-0.002751</td>\n",
              "      <td>-0.013511</td>\n",
              "      <td>0.014530</td>\n",
              "      <td>0.019464</td>\n",
              "      <td>0.046172</td>\n",
              "      <td>...</td>\n",
              "      <td>0.052199</td>\n",
              "      <td>0.040075</td>\n",
              "      <td>0.064378</td>\n",
              "      <td>0.000640</td>\n",
              "      <td>0.014270</td>\n",
              "      <td>0.011987</td>\n",
              "      <td>-0.011987</td>\n",
              "      <td>-0.015911</td>\n",
              "      <td>0.015911</td>\n",
              "      <td>NaN</td>\n",
              "    </tr>\n",
              "    <tr>\n",
              "      <th>serum creatinine</th>\n",
              "      <td>0.003739</td>\n",
              "      <td>-0.009626</td>\n",
              "      <td>0.383885</td>\n",
              "      <td>0.324831</td>\n",
              "      <td>0.235056</td>\n",
              "      <td>0.071417</td>\n",
              "      <td>0.047598</td>\n",
              "      <td>0.003357</td>\n",
              "      <td>0.008068</td>\n",
              "      <td>0.072278</td>\n",
              "      <td>...</td>\n",
              "      <td>0.048566</td>\n",
              "      <td>0.083618</td>\n",
              "      <td>0.102430</td>\n",
              "      <td>0.027480</td>\n",
              "      <td>0.216823</td>\n",
              "      <td>-0.028620</td>\n",
              "      <td>0.028620</td>\n",
              "      <td>-0.507233</td>\n",
              "      <td>0.507233</td>\n",
              "      <td>NaN</td>\n",
              "    </tr>\n",
              "    <tr>\n",
              "      <th>AST</th>\n",
              "      <td>-0.001900</td>\n",
              "      <td>0.002108</td>\n",
              "      <td>0.041744</td>\n",
              "      <td>0.120146</td>\n",
              "      <td>0.142706</td>\n",
              "      <td>-0.007965</td>\n",
              "      <td>-0.006926</td>\n",
              "      <td>0.018077</td>\n",
              "      <td>0.009397</td>\n",
              "      <td>0.083208</td>\n",
              "      <td>...</td>\n",
              "      <td>1.000000</td>\n",
              "      <td>0.740728</td>\n",
              "      <td>0.379965</td>\n",
              "      <td>0.007249</td>\n",
              "      <td>0.059266</td>\n",
              "      <td>0.001656</td>\n",
              "      <td>-0.001656</td>\n",
              "      <td>-0.095728</td>\n",
              "      <td>0.095728</td>\n",
              "      <td>NaN</td>\n",
              "    </tr>\n",
              "    <tr>\n",
              "      <th>ALT</th>\n",
              "      <td>-0.002840</td>\n",
              "      <td>-0.004416</td>\n",
              "      <td>0.126518</td>\n",
              "      <td>0.250650</td>\n",
              "      <td>0.252494</td>\n",
              "      <td>0.019324</td>\n",
              "      <td>0.024174</td>\n",
              "      <td>0.004823</td>\n",
              "      <td>-0.005078</td>\n",
              "      <td>0.094902</td>\n",
              "      <td>...</td>\n",
              "      <td>0.740728</td>\n",
              "      <td>1.000000</td>\n",
              "      <td>0.343941</td>\n",
              "      <td>0.022608</td>\n",
              "      <td>0.097353</td>\n",
              "      <td>-0.019993</td>\n",
              "      <td>0.019993</td>\n",
              "      <td>-0.167917</td>\n",
              "      <td>0.167917</td>\n",
              "      <td>NaN</td>\n",
              "    </tr>\n",
              "    <tr>\n",
              "      <th>Gtp</th>\n",
              "      <td>0.000777</td>\n",
              "      <td>0.000801</td>\n",
              "      <td>0.139728</td>\n",
              "      <td>0.209644</td>\n",
              "      <td>0.243161</td>\n",
              "      <td>0.003850</td>\n",
              "      <td>0.012187</td>\n",
              "      <td>0.012869</td>\n",
              "      <td>0.009249</td>\n",
              "      <td>0.165729</td>\n",
              "      <td>...</td>\n",
              "      <td>0.379965</td>\n",
              "      <td>0.343941</td>\n",
              "      <td>1.000000</td>\n",
              "      <td>0.039831</td>\n",
              "      <td>0.236631</td>\n",
              "      <td>-0.034357</td>\n",
              "      <td>0.034357</td>\n",
              "      <td>-0.237279</td>\n",
              "      <td>0.237279</td>\n",
              "      <td>NaN</td>\n",
              "    </tr>\n",
              "    <tr>\n",
              "      <th>dental caries</th>\n",
              "      <td>0.000576</td>\n",
              "      <td>-0.010579</td>\n",
              "      <td>0.079344</td>\n",
              "      <td>0.073561</td>\n",
              "      <td>0.044228</td>\n",
              "      <td>0.003687</td>\n",
              "      <td>0.016357</td>\n",
              "      <td>-0.016094</td>\n",
              "      <td>-0.016369</td>\n",
              "      <td>0.029900</td>\n",
              "      <td>...</td>\n",
              "      <td>0.007249</td>\n",
              "      <td>0.022608</td>\n",
              "      <td>0.039831</td>\n",
              "      <td>1.000000</td>\n",
              "      <td>0.103862</td>\n",
              "      <td>-0.173100</td>\n",
              "      <td>0.173100</td>\n",
              "      <td>-0.084414</td>\n",
              "      <td>0.084414</td>\n",
              "      <td>NaN</td>\n",
              "    </tr>\n",
              "    <tr>\n",
              "      <th>smoking</th>\n",
              "      <td>0.011444</td>\n",
              "      <td>-0.006335</td>\n",
              "      <td>0.396662</td>\n",
              "      <td>0.302800</td>\n",
              "      <td>0.226295</td>\n",
              "      <td>0.061197</td>\n",
              "      <td>0.062989</td>\n",
              "      <td>-0.023205</td>\n",
              "      <td>-0.018852</td>\n",
              "      <td>0.073123</td>\n",
              "      <td>...</td>\n",
              "      <td>0.059266</td>\n",
              "      <td>0.097353</td>\n",
              "      <td>0.236631</td>\n",
              "      <td>0.103862</td>\n",
              "      <td>1.000000</td>\n",
              "      <td>-0.098688</td>\n",
              "      <td>0.098688</td>\n",
              "      <td>-0.510346</td>\n",
              "      <td>0.510346</td>\n",
              "      <td>NaN</td>\n",
              "    </tr>\n",
              "    <tr>\n",
              "      <th>tartar_N</th>\n",
              "      <td>-0.002460</td>\n",
              "      <td>0.002502</td>\n",
              "      <td>-0.055504</td>\n",
              "      <td>-0.059930</td>\n",
              "      <td>-0.046216</td>\n",
              "      <td>-0.012543</td>\n",
              "      <td>-0.006556</td>\n",
              "      <td>0.035393</td>\n",
              "      <td>0.026696</td>\n",
              "      <td>-0.006510</td>\n",
              "      <td>...</td>\n",
              "      <td>0.001656</td>\n",
              "      <td>-0.019993</td>\n",
              "      <td>-0.034357</td>\n",
              "      <td>-0.173100</td>\n",
              "      <td>-0.098688</td>\n",
              "      <td>1.000000</td>\n",
              "      <td>-1.000000</td>\n",
              "      <td>0.055471</td>\n",
              "      <td>-0.055471</td>\n",
              "      <td>NaN</td>\n",
              "    </tr>\n",
              "    <tr>\n",
              "      <th>tartar_Y</th>\n",
              "      <td>0.002460</td>\n",
              "      <td>-0.002502</td>\n",
              "      <td>0.055504</td>\n",
              "      <td>0.059930</td>\n",
              "      <td>0.046216</td>\n",
              "      <td>0.012543</td>\n",
              "      <td>0.006556</td>\n",
              "      <td>-0.035393</td>\n",
              "      <td>-0.026696</td>\n",
              "      <td>0.006510</td>\n",
              "      <td>...</td>\n",
              "      <td>-0.001656</td>\n",
              "      <td>0.019993</td>\n",
              "      <td>0.034357</td>\n",
              "      <td>0.173100</td>\n",
              "      <td>0.098688</td>\n",
              "      <td>-1.000000</td>\n",
              "      <td>1.000000</td>\n",
              "      <td>-0.055471</td>\n",
              "      <td>0.055471</td>\n",
              "      <td>NaN</td>\n",
              "    </tr>\n",
              "    <tr>\n",
              "      <th>gender_F</th>\n",
              "      <td>-0.008620</td>\n",
              "      <td>0.017319</td>\n",
              "      <td>-0.741537</td>\n",
              "      <td>-0.574967</td>\n",
              "      <td>-0.419598</td>\n",
              "      <td>-0.127401</td>\n",
              "      <td>-0.125647</td>\n",
              "      <td>0.009404</td>\n",
              "      <td>0.011575</td>\n",
              "      <td>-0.167335</td>\n",
              "      <td>...</td>\n",
              "      <td>-0.095728</td>\n",
              "      <td>-0.167917</td>\n",
              "      <td>-0.237279</td>\n",
              "      <td>-0.084414</td>\n",
              "      <td>-0.510346</td>\n",
              "      <td>0.055471</td>\n",
              "      <td>-0.055471</td>\n",
              "      <td>1.000000</td>\n",
              "      <td>-1.000000</td>\n",
              "      <td>NaN</td>\n",
              "    </tr>\n",
              "    <tr>\n",
              "      <th>gender_M</th>\n",
              "      <td>0.008620</td>\n",
              "      <td>-0.017319</td>\n",
              "      <td>0.741537</td>\n",
              "      <td>0.574967</td>\n",
              "      <td>0.419598</td>\n",
              "      <td>0.127401</td>\n",
              "      <td>0.125647</td>\n",
              "      <td>-0.009404</td>\n",
              "      <td>-0.011575</td>\n",
              "      <td>0.167335</td>\n",
              "      <td>...</td>\n",
              "      <td>0.095728</td>\n",
              "      <td>0.167917</td>\n",
              "      <td>0.237279</td>\n",
              "      <td>0.084414</td>\n",
              "      <td>0.510346</td>\n",
              "      <td>-0.055471</td>\n",
              "      <td>0.055471</td>\n",
              "      <td>-1.000000</td>\n",
              "      <td>1.000000</td>\n",
              "      <td>NaN</td>\n",
              "    </tr>\n",
              "    <tr>\n",
              "      <th>oral_Y</th>\n",
              "      <td>NaN</td>\n",
              "      <td>NaN</td>\n",
              "      <td>NaN</td>\n",
              "      <td>NaN</td>\n",
              "      <td>NaN</td>\n",
              "      <td>NaN</td>\n",
              "      <td>NaN</td>\n",
              "      <td>NaN</td>\n",
              "      <td>NaN</td>\n",
              "      <td>NaN</td>\n",
              "      <td>...</td>\n",
              "      <td>NaN</td>\n",
              "      <td>NaN</td>\n",
              "      <td>NaN</td>\n",
              "      <td>NaN</td>\n",
              "      <td>NaN</td>\n",
              "      <td>NaN</td>\n",
              "      <td>NaN</td>\n",
              "      <td>NaN</td>\n",
              "      <td>NaN</td>\n",
              "      <td>NaN</td>\n",
              "    </tr>\n",
              "  </tbody>\n",
              "</table>\n",
              "<p>29 rows × 29 columns</p>\n",
              "</div>\n",
              "    <div class=\"colab-df-buttons\">\n",
              "\n",
              "  <div class=\"colab-df-container\">\n",
              "    <button class=\"colab-df-convert\" onclick=\"convertToInteractive('df-b666d8ba-c717-47f1-b320-5547b6f5fe26')\"\n",
              "            title=\"Convert this dataframe to an interactive table.\"\n",
              "            style=\"display:none;\">\n",
              "\n",
              "  <svg xmlns=\"http://www.w3.org/2000/svg\" height=\"24px\" viewBox=\"0 -960 960 960\">\n",
              "    <path d=\"M120-120v-720h720v720H120Zm60-500h600v-160H180v160Zm220 220h160v-160H400v160Zm0 220h160v-160H400v160ZM180-400h160v-160H180v160Zm440 0h160v-160H620v160ZM180-180h160v-160H180v160Zm440 0h160v-160H620v160Z\"/>\n",
              "  </svg>\n",
              "    </button>\n",
              "\n",
              "  <style>\n",
              "    .colab-df-container {\n",
              "      display:flex;\n",
              "      gap: 12px;\n",
              "    }\n",
              "\n",
              "    .colab-df-convert {\n",
              "      background-color: #E8F0FE;\n",
              "      border: none;\n",
              "      border-radius: 50%;\n",
              "      cursor: pointer;\n",
              "      display: none;\n",
              "      fill: #1967D2;\n",
              "      height: 32px;\n",
              "      padding: 0 0 0 0;\n",
              "      width: 32px;\n",
              "    }\n",
              "\n",
              "    .colab-df-convert:hover {\n",
              "      background-color: #E2EBFA;\n",
              "      box-shadow: 0px 1px 2px rgba(60, 64, 67, 0.3), 0px 1px 3px 1px rgba(60, 64, 67, 0.15);\n",
              "      fill: #174EA6;\n",
              "    }\n",
              "\n",
              "    .colab-df-buttons div {\n",
              "      margin-bottom: 4px;\n",
              "    }\n",
              "\n",
              "    [theme=dark] .colab-df-convert {\n",
              "      background-color: #3B4455;\n",
              "      fill: #D2E3FC;\n",
              "    }\n",
              "\n",
              "    [theme=dark] .colab-df-convert:hover {\n",
              "      background-color: #434B5C;\n",
              "      box-shadow: 0px 1px 3px 1px rgba(0, 0, 0, 0.15);\n",
              "      filter: drop-shadow(0px 1px 2px rgba(0, 0, 0, 0.3));\n",
              "      fill: #FFFFFF;\n",
              "    }\n",
              "  </style>\n",
              "\n",
              "    <script>\n",
              "      const buttonEl =\n",
              "        document.querySelector('#df-b666d8ba-c717-47f1-b320-5547b6f5fe26 button.colab-df-convert');\n",
              "      buttonEl.style.display =\n",
              "        google.colab.kernel.accessAllowed ? 'block' : 'none';\n",
              "\n",
              "      async function convertToInteractive(key) {\n",
              "        const element = document.querySelector('#df-b666d8ba-c717-47f1-b320-5547b6f5fe26');\n",
              "        const dataTable =\n",
              "          await google.colab.kernel.invokeFunction('convertToInteractive',\n",
              "                                                    [key], {});\n",
              "        if (!dataTable) return;\n",
              "\n",
              "        const docLinkHtml = 'Like what you see? Visit the ' +\n",
              "          '<a target=\"_blank\" href=https://colab.research.google.com/notebooks/data_table.ipynb>data table notebook</a>'\n",
              "          + ' to learn more about interactive tables.';\n",
              "        element.innerHTML = '';\n",
              "        dataTable['output_type'] = 'display_data';\n",
              "        await google.colab.output.renderOutput(dataTable, element);\n",
              "        const docLink = document.createElement('div');\n",
              "        docLink.innerHTML = docLinkHtml;\n",
              "        element.appendChild(docLink);\n",
              "      }\n",
              "    </script>\n",
              "  </div>\n",
              "\n",
              "\n",
              "<div id=\"df-2adf91c9-e28e-4c35-92c8-5f6951c9e5db\">\n",
              "  <button class=\"colab-df-quickchart\" onclick=\"quickchart('df-2adf91c9-e28e-4c35-92c8-5f6951c9e5db')\"\n",
              "            title=\"Suggest charts\"\n",
              "            style=\"display:none;\">\n",
              "\n",
              "<svg xmlns=\"http://www.w3.org/2000/svg\" height=\"24px\"viewBox=\"0 0 24 24\"\n",
              "     width=\"24px\">\n",
              "    <g>\n",
              "        <path d=\"M19 3H5c-1.1 0-2 .9-2 2v14c0 1.1.9 2 2 2h14c1.1 0 2-.9 2-2V5c0-1.1-.9-2-2-2zM9 17H7v-7h2v7zm4 0h-2V7h2v10zm4 0h-2v-4h2v4z\"/>\n",
              "    </g>\n",
              "</svg>\n",
              "  </button>\n",
              "\n",
              "<style>\n",
              "  .colab-df-quickchart {\n",
              "      --bg-color: #E8F0FE;\n",
              "      --fill-color: #1967D2;\n",
              "      --hover-bg-color: #E2EBFA;\n",
              "      --hover-fill-color: #174EA6;\n",
              "      --disabled-fill-color: #AAA;\n",
              "      --disabled-bg-color: #DDD;\n",
              "  }\n",
              "\n",
              "  [theme=dark] .colab-df-quickchart {\n",
              "      --bg-color: #3B4455;\n",
              "      --fill-color: #D2E3FC;\n",
              "      --hover-bg-color: #434B5C;\n",
              "      --hover-fill-color: #FFFFFF;\n",
              "      --disabled-bg-color: #3B4455;\n",
              "      --disabled-fill-color: #666;\n",
              "  }\n",
              "\n",
              "  .colab-df-quickchart {\n",
              "    background-color: var(--bg-color);\n",
              "    border: none;\n",
              "    border-radius: 50%;\n",
              "    cursor: pointer;\n",
              "    display: none;\n",
              "    fill: var(--fill-color);\n",
              "    height: 32px;\n",
              "    padding: 0;\n",
              "    width: 32px;\n",
              "  }\n",
              "\n",
              "  .colab-df-quickchart:hover {\n",
              "    background-color: var(--hover-bg-color);\n",
              "    box-shadow: 0 1px 2px rgba(60, 64, 67, 0.3), 0 1px 3px 1px rgba(60, 64, 67, 0.15);\n",
              "    fill: var(--button-hover-fill-color);\n",
              "  }\n",
              "\n",
              "  .colab-df-quickchart-complete:disabled,\n",
              "  .colab-df-quickchart-complete:disabled:hover {\n",
              "    background-color: var(--disabled-bg-color);\n",
              "    fill: var(--disabled-fill-color);\n",
              "    box-shadow: none;\n",
              "  }\n",
              "\n",
              "  .colab-df-spinner {\n",
              "    border: 2px solid var(--fill-color);\n",
              "    border-color: transparent;\n",
              "    border-bottom-color: var(--fill-color);\n",
              "    animation:\n",
              "      spin 1s steps(1) infinite;\n",
              "  }\n",
              "\n",
              "  @keyframes spin {\n",
              "    0% {\n",
              "      border-color: transparent;\n",
              "      border-bottom-color: var(--fill-color);\n",
              "      border-left-color: var(--fill-color);\n",
              "    }\n",
              "    20% {\n",
              "      border-color: transparent;\n",
              "      border-left-color: var(--fill-color);\n",
              "      border-top-color: var(--fill-color);\n",
              "    }\n",
              "    30% {\n",
              "      border-color: transparent;\n",
              "      border-left-color: var(--fill-color);\n",
              "      border-top-color: var(--fill-color);\n",
              "      border-right-color: var(--fill-color);\n",
              "    }\n",
              "    40% {\n",
              "      border-color: transparent;\n",
              "      border-right-color: var(--fill-color);\n",
              "      border-top-color: var(--fill-color);\n",
              "    }\n",
              "    60% {\n",
              "      border-color: transparent;\n",
              "      border-right-color: var(--fill-color);\n",
              "    }\n",
              "    80% {\n",
              "      border-color: transparent;\n",
              "      border-right-color: var(--fill-color);\n",
              "      border-bottom-color: var(--fill-color);\n",
              "    }\n",
              "    90% {\n",
              "      border-color: transparent;\n",
              "      border-bottom-color: var(--fill-color);\n",
              "    }\n",
              "  }\n",
              "</style>\n",
              "\n",
              "  <script>\n",
              "    async function quickchart(key) {\n",
              "      const quickchartButtonEl =\n",
              "        document.querySelector('#' + key + ' button');\n",
              "      quickchartButtonEl.disabled = true;  // To prevent multiple clicks.\n",
              "      quickchartButtonEl.classList.add('colab-df-spinner');\n",
              "      try {\n",
              "        const charts = await google.colab.kernel.invokeFunction(\n",
              "            'suggestCharts', [key], {});\n",
              "      } catch (error) {\n",
              "        console.error('Error during call to suggestCharts:', error);\n",
              "      }\n",
              "      quickchartButtonEl.classList.remove('colab-df-spinner');\n",
              "      quickchartButtonEl.classList.add('colab-df-quickchart-complete');\n",
              "    }\n",
              "    (() => {\n",
              "      let quickchartButtonEl =\n",
              "        document.querySelector('#df-2adf91c9-e28e-4c35-92c8-5f6951c9e5db button');\n",
              "      quickchartButtonEl.style.display =\n",
              "        google.colab.kernel.accessAllowed ? 'block' : 'none';\n",
              "    })();\n",
              "  </script>\n",
              "</div>\n",
              "    </div>\n",
              "  </div>\n"
            ],
            "application/vnd.google.colaboratory.intrinsic+json": {
              "type": "dataframe"
            }
          },
          "metadata": {},
          "execution_count": 62
        }
      ]
    },
    {
      "cell_type": "code",
      "source": [
        "MC=df.corr()"
      ],
      "metadata": {
        "id": "WrqEyKJX_ZU8"
      },
      "execution_count": null,
      "outputs": []
    },
    {
      "cell_type": "code",
      "source": [
        "max_corr = MC[MC != 1].max().max()\n",
        "max_corr_indices = MC[MC == max_corr].stack().index.tolist()\n",
        "\n",
        "print(\"Les valeurs les plus corrélées :\")\n",
        "for idx in max_corr_indices:\n",
        "    var1, var2 = idx\n",
        "    corr_value = MC.loc[var1, var2]\n",
        "    print(f\"{var1} et {var2} : {corr_value}\")"
      ],
      "metadata": {
        "colab": {
          "base_uri": "https://localhost:8080/"
        },
        "id": "dwF3se1qAYF2",
        "outputId": "84134f85-898b-42ab-cb28-bbb8f37ad660"
      },
      "execution_count": null,
      "outputs": [
        {
          "output_type": "stream",
          "name": "stdout",
          "text": [
            "Les valeurs les plus corrélées :\n",
            "weight(kg) et waist(cm) : 0.8228519783111399\n",
            "waist(cm) et weight(kg) : 0.8228519783111399\n"
          ]
        }
      ]
    },
    {
      "cell_type": "code",
      "source": [
        "smoking_corr = MC['smoking'].abs().sort_values(ascending=False)\n",
        "\n",
        "\n",
        "smoking_corr = smoking_corr.drop('smoking')\n",
        "\n",
        "top_3_corr_variables = smoking_corr.head(4)\n",
        "\n",
        "print(\"Les trois variables les plus corrélées avec 'smoking' :\")\n",
        "print(top_3_corr_variables)"
      ],
      "metadata": {
        "colab": {
          "base_uri": "https://localhost:8080/"
        },
        "id": "XdQtx66nAwNT",
        "outputId": "b6932ec1-a0f9-4829-b9f8-5e328c021e4b"
      },
      "execution_count": null,
      "outputs": [
        {
          "output_type": "stream",
          "name": "stdout",
          "text": [
            "Les trois variables les plus corrélées avec 'smoking' :\n",
            "gender_M      0.510346\n",
            "gender_F      0.510346\n",
            "hemoglobin    0.400690\n",
            "height(cm)    0.396662\n",
            "Name: smoking, dtype: float64\n"
          ]
        }
      ]
    },
    {
      "cell_type": "markdown",
      "source": [
        "j'ai mis 4 car gender comptait pour 2"
      ],
      "metadata": {
        "id": "IOicICS2_nRx"
      }
    },
    {
      "cell_type": "markdown",
      "source": [
        "# Partie 3 :\n",
        "\n",
        "Objectif : Choisir et entraîner plusieurs modèles de classification, ajuster les hyperparamètres et comparer les performances des modèles.\n",
        "\n",
        "3.1 Création de jeu de test et d'entraînement\n",
        "\n",
        "Séparez la data en 2 parties : train & test.\n",
        "\n",
        "Questions :\n",
        "\n",
        "Quelle proportion des données avez-vous utilisée pour l'entraînement et pour le test ?\n",
        "Pourquoi est-il important de diviser les données ?"
      ],
      "metadata": {
        "id": "JvQL7ucQA_33"
      }
    },
    {
      "cell_type": "code",
      "source": [
        "from sklearn.model_selection import train_test_split"
      ],
      "metadata": {
        "id": "0-LYzbL_BK3F"
      },
      "execution_count": null,
      "outputs": []
    },
    {
      "cell_type": "code",
      "source": [
        "y = df[\"smoking\"]\n",
        "X= df.drop('smoking',axis=1)"
      ],
      "metadata": {
        "id": "-YgyFvaGBa2J"
      },
      "execution_count": null,
      "outputs": []
    },
    {
      "cell_type": "code",
      "source": [
        "X_train, X_test, y_train, y_test = train_test_split(X, y, test_size=0.2, random_state=0)"
      ],
      "metadata": {
        "id": "zIx6j5WWBgsd"
      },
      "execution_count": null,
      "outputs": []
    },
    {
      "cell_type": "markdown",
      "source": [
        "j'ai donné 80 % des données pour l'entraînement et donc 2à pour le test\n",
        "\n",
        "ca permet de voir si le modèle fonctionne bien avec des nouvelles données et évite qu'il apprenne trop sur les données d'entraînement."
      ],
      "metadata": {
        "id": "YcYao24m-hai"
      }
    },
    {
      "cell_type": "markdown",
      "source": [
        "# 3.2 Entraînement d'un modèle simple : LogisticRegression\n",
        "\n",
        "Entraîner un modèle de régression logistique simple sur les données d'entraînement. Questions :\n",
        "\n",
        "Quels sont les résultats de ce modèle sur le jeu de test ?\n"
      ],
      "metadata": {
        "id": "dEvuR0-sCIln"
      }
    },
    {
      "cell_type": "code",
      "source": [
        "from sklearn.datasets import load_iris\n",
        "from sklearn.linear_model import LogisticRegression\n",
        "X, y = load_iris(return_X_y=True)\n",
        "clf = LogisticRegression(random_state=0)\n",
        "clf.fit(X_train, y_train)"
      ],
      "metadata": {
        "colab": {
          "base_uri": "https://localhost:8080/",
          "height": 230
        },
        "id": "cGhPueboCTTQ",
        "outputId": "5f57ccbf-8430-4fa7-ba50-499295dc8d35"
      },
      "execution_count": null,
      "outputs": [
        {
          "output_type": "stream",
          "name": "stderr",
          "text": [
            "/usr/local/lib/python3.10/dist-packages/sklearn/linear_model/_logistic.py:458: ConvergenceWarning: lbfgs failed to converge (status=1):\n",
            "STOP: TOTAL NO. of ITERATIONS REACHED LIMIT.\n",
            "\n",
            "Increase the number of iterations (max_iter) or scale the data as shown in:\n",
            "    https://scikit-learn.org/stable/modules/preprocessing.html\n",
            "Please also refer to the documentation for alternative solver options:\n",
            "    https://scikit-learn.org/stable/modules/linear_model.html#logistic-regression\n",
            "  n_iter_i = _check_optimize_result(\n"
          ]
        },
        {
          "output_type": "execute_result",
          "data": {
            "text/plain": [
              "LogisticRegression(random_state=0)"
            ],
            "text/html": [
              "<style>#sk-container-id-1 {color: black;background-color: white;}#sk-container-id-1 pre{padding: 0;}#sk-container-id-1 div.sk-toggleable {background-color: white;}#sk-container-id-1 label.sk-toggleable__label {cursor: pointer;display: block;width: 100%;margin-bottom: 0;padding: 0.3em;box-sizing: border-box;text-align: center;}#sk-container-id-1 label.sk-toggleable__label-arrow:before {content: \"▸\";float: left;margin-right: 0.25em;color: #696969;}#sk-container-id-1 label.sk-toggleable__label-arrow:hover:before {color: black;}#sk-container-id-1 div.sk-estimator:hover label.sk-toggleable__label-arrow:before {color: black;}#sk-container-id-1 div.sk-toggleable__content {max-height: 0;max-width: 0;overflow: hidden;text-align: left;background-color: #f0f8ff;}#sk-container-id-1 div.sk-toggleable__content pre {margin: 0.2em;color: black;border-radius: 0.25em;background-color: #f0f8ff;}#sk-container-id-1 input.sk-toggleable__control:checked~div.sk-toggleable__content {max-height: 200px;max-width: 100%;overflow: auto;}#sk-container-id-1 input.sk-toggleable__control:checked~label.sk-toggleable__label-arrow:before {content: \"▾\";}#sk-container-id-1 div.sk-estimator input.sk-toggleable__control:checked~label.sk-toggleable__label {background-color: #d4ebff;}#sk-container-id-1 div.sk-label input.sk-toggleable__control:checked~label.sk-toggleable__label {background-color: #d4ebff;}#sk-container-id-1 input.sk-hidden--visually {border: 0;clip: rect(1px 1px 1px 1px);clip: rect(1px, 1px, 1px, 1px);height: 1px;margin: -1px;overflow: hidden;padding: 0;position: absolute;width: 1px;}#sk-container-id-1 div.sk-estimator {font-family: monospace;background-color: #f0f8ff;border: 1px dotted black;border-radius: 0.25em;box-sizing: border-box;margin-bottom: 0.5em;}#sk-container-id-1 div.sk-estimator:hover {background-color: #d4ebff;}#sk-container-id-1 div.sk-parallel-item::after {content: \"\";width: 100%;border-bottom: 1px solid gray;flex-grow: 1;}#sk-container-id-1 div.sk-label:hover label.sk-toggleable__label {background-color: #d4ebff;}#sk-container-id-1 div.sk-serial::before {content: \"\";position: absolute;border-left: 1px solid gray;box-sizing: border-box;top: 0;bottom: 0;left: 50%;z-index: 0;}#sk-container-id-1 div.sk-serial {display: flex;flex-direction: column;align-items: center;background-color: white;padding-right: 0.2em;padding-left: 0.2em;position: relative;}#sk-container-id-1 div.sk-item {position: relative;z-index: 1;}#sk-container-id-1 div.sk-parallel {display: flex;align-items: stretch;justify-content: center;background-color: white;position: relative;}#sk-container-id-1 div.sk-item::before, #sk-container-id-1 div.sk-parallel-item::before {content: \"\";position: absolute;border-left: 1px solid gray;box-sizing: border-box;top: 0;bottom: 0;left: 50%;z-index: -1;}#sk-container-id-1 div.sk-parallel-item {display: flex;flex-direction: column;z-index: 1;position: relative;background-color: white;}#sk-container-id-1 div.sk-parallel-item:first-child::after {align-self: flex-end;width: 50%;}#sk-container-id-1 div.sk-parallel-item:last-child::after {align-self: flex-start;width: 50%;}#sk-container-id-1 div.sk-parallel-item:only-child::after {width: 0;}#sk-container-id-1 div.sk-dashed-wrapped {border: 1px dashed gray;margin: 0 0.4em 0.5em 0.4em;box-sizing: border-box;padding-bottom: 0.4em;background-color: white;}#sk-container-id-1 div.sk-label label {font-family: monospace;font-weight: bold;display: inline-block;line-height: 1.2em;}#sk-container-id-1 div.sk-label-container {text-align: center;}#sk-container-id-1 div.sk-container {/* jupyter's `normalize.less` sets `[hidden] { display: none; }` but bootstrap.min.css set `[hidden] { display: none !important; }` so we also need the `!important` here to be able to override the default hidden behavior on the sphinx rendered scikit-learn.org. See: https://github.com/scikit-learn/scikit-learn/issues/21755 */display: inline-block !important;position: relative;}#sk-container-id-1 div.sk-text-repr-fallback {display: none;}</style><div id=\"sk-container-id-1\" class=\"sk-top-container\"><div class=\"sk-text-repr-fallback\"><pre>LogisticRegression(random_state=0)</pre><b>In a Jupyter environment, please rerun this cell to show the HTML representation or trust the notebook. <br />On GitHub, the HTML representation is unable to render, please try loading this page with nbviewer.org.</b></div><div class=\"sk-container\" hidden><div class=\"sk-item\"><div class=\"sk-estimator sk-toggleable\"><input class=\"sk-toggleable__control sk-hidden--visually\" id=\"sk-estimator-id-1\" type=\"checkbox\" checked><label for=\"sk-estimator-id-1\" class=\"sk-toggleable__label sk-toggleable__label-arrow\">LogisticRegression</label><div class=\"sk-toggleable__content\"><pre>LogisticRegression(random_state=0)</pre></div></div></div></div></div>"
            ]
          },
          "metadata": {},
          "execution_count": 28
        }
      ]
    },
    {
      "cell_type": "code",
      "source": [
        "y_pred=clf.predict(X_test)\n",
        "print(y_pred)"
      ],
      "metadata": {
        "colab": {
          "base_uri": "https://localhost:8080/"
        },
        "id": "scS8ubpxEY3J",
        "outputId": "6a311932-dce4-4fdd-eaee-9291922b5ba8"
      },
      "execution_count": null,
      "outputs": [
        {
          "output_type": "stream",
          "name": "stdout",
          "text": [
            "[0 0 0 ... 0 1 0]\n"
          ]
        }
      ]
    },
    {
      "cell_type": "code",
      "source": [
        "from sklearn.metrics import confusion_matrix\n",
        "confusion_mat_result = confusion_matrix(y_pred,y_test)\n",
        "sns.heatmap(confusion_mat_result,annot=True)"
      ],
      "metadata": {
        "colab": {
          "base_uri": "https://localhost:8080/",
          "height": 448
        },
        "id": "X9l2wVjuFNNV",
        "outputId": "8ef0cacc-1fa4-48d7-c48c-c18442d58d91"
      },
      "execution_count": null,
      "outputs": [
        {
          "output_type": "execute_result",
          "data": {
            "text/plain": [
              "<Axes: >"
            ]
          },
          "metadata": {},
          "execution_count": 74
        },
        {
          "output_type": "display_data",
          "data": {
            "text/plain": [
              "<Figure size 640x480 with 2 Axes>"
            ],
            "image/png": "[encoded data removed]"
          },
          "metadata": {}
        }
      ]
    },
    {
      "cell_type": "code",
      "source": [],
      "metadata": {
        "id": "VZ97x7OkGMJ5"
      },
      "execution_count": null,
      "outputs": []
    },
    {
      "cell_type": "code",
      "source": [
        "from sklearn.metrics import accuracy_score\n",
        "\n",
        "accuracy=accuracy_score(y_test, y_pred)\n",
        "\n",
        "print(accuracy)"
      ],
      "metadata": {
        "colab": {
          "base_uri": "https://localhost:8080/"
        },
        "id": "6QbdEWFTFagx",
        "outputId": "fa76f4ad-a445-445f-c240-d32c4ac19662"
      },
      "execution_count": null,
      "outputs": [
        {
          "output_type": "stream",
          "name": "stdout",
          "text": [
            "0.6934470377019749\n"
          ]
        }
      ]
    },
    {
      "cell_type": "markdown",
      "source": [
        "la matrice de corelation n'est pas vraiment sous forme diagonal et l'acurracy eest pas tres haute"
      ],
      "metadata": {
        "id": "mDDRb-fsFf09"
      }
    },
    {
      "cell_type": "markdown",
      "source": [
        "# 3.3 Entraîner et ajuster les paramètres de plusieurs modèles\n",
        "\n",
        "Entraîner au moins quatre modèles différents et ajuster leurs hyperparamètres en utilisant GridSearchCV.\n",
        "\n"
      ],
      "metadata": {
        "id": "z6Sg_tsvFk6a"
      }
    },
    {
      "cell_type": "code",
      "source": [
        "from sklearn.neighbors import KNeighborsClassifier\n",
        "neigh = KNeighborsClassifier(n_neighbors=3) #model\n",
        "neigh.fit(X_train, y_train) # entrainement de model, le meme pour tout les algos\n"
      ],
      "metadata": {
        "colab": {
          "base_uri": "https://localhost:8080/",
          "height": 74
        },
        "id": "y28oLuFyFqXF",
        "outputId": "b018357d-74c4-4a68-e6ed-cdde579d0f64"
      },
      "execution_count": null,
      "outputs": [
        {
          "output_type": "execute_result",
          "data": {
            "text/plain": [
              "KNeighborsClassifier(n_neighbors=3)"
            ],
            "text/html": [
              "<style>#sk-container-id-2 {color: black;background-color: white;}#sk-container-id-2 pre{padding: 0;}#sk-container-id-2 div.sk-toggleable {background-color: white;}#sk-container-id-2 label.sk-toggleable__label {cursor: pointer;display: block;width: 100%;margin-bottom: 0;padding: 0.3em;box-sizing: border-box;text-align: center;}#sk-container-id-2 label.sk-toggleable__label-arrow:before {content: \"▸\";float: left;margin-right: 0.25em;color: #696969;}#sk-container-id-2 label.sk-toggleable__label-arrow:hover:before {color: black;}#sk-container-id-2 div.sk-estimator:hover label.sk-toggleable__label-arrow:before {color: black;}#sk-container-id-2 div.sk-toggleable__content {max-height: 0;max-width: 0;overflow: hidden;text-align: left;background-color: #f0f8ff;}#sk-container-id-2 div.sk-toggleable__content pre {margin: 0.2em;color: black;border-radius: 0.25em;background-color: #f0f8ff;}#sk-container-id-2 input.sk-toggleable__control:checked~div.sk-toggleable__content {max-height: 200px;max-width: 100%;overflow: auto;}#sk-container-id-2 input.sk-toggleable__control:checked~label.sk-toggleable__label-arrow:before {content: \"▾\";}#sk-container-id-2 div.sk-estimator input.sk-toggleable__control:checked~label.sk-toggleable__label {background-color: #d4ebff;}#sk-container-id-2 div.sk-label input.sk-toggleable__control:checked~label.sk-toggleable__label {background-color: #d4ebff;}#sk-container-id-2 input.sk-hidden--visually {border: 0;clip: rect(1px 1px 1px 1px);clip: rect(1px, 1px, 1px, 1px);height: 1px;margin: -1px;overflow: hidden;padding: 0;position: absolute;width: 1px;}#sk-container-id-2 div.sk-estimator {font-family: monospace;background-color: #f0f8ff;border: 1px dotted black;border-radius: 0.25em;box-sizing: border-box;margin-bottom: 0.5em;}#sk-container-id-2 div.sk-estimator:hover {background-color: #d4ebff;}#sk-container-id-2 div.sk-parallel-item::after {content: \"\";width: 100%;border-bottom: 1px solid gray;flex-grow: 1;}#sk-container-id-2 div.sk-label:hover label.sk-toggleable__label {background-color: #d4ebff;}#sk-container-id-2 div.sk-serial::before {content: \"\";position: absolute;border-left: 1px solid gray;box-sizing: border-box;top: 0;bottom: 0;left: 50%;z-index: 0;}#sk-container-id-2 div.sk-serial {display: flex;flex-direction: column;align-items: center;background-color: white;padding-right: 0.2em;padding-left: 0.2em;position: relative;}#sk-container-id-2 div.sk-item {position: relative;z-index: 1;}#sk-container-id-2 div.sk-parallel {display: flex;align-items: stretch;justify-content: center;background-color: white;position: relative;}#sk-container-id-2 div.sk-item::before, #sk-container-id-2 div.sk-parallel-item::before {content: \"\";position: absolute;border-left: 1px solid gray;box-sizing: border-box;top: 0;bottom: 0;left: 50%;z-index: -1;}#sk-container-id-2 div.sk-parallel-item {display: flex;flex-direction: column;z-index: 1;position: relative;background-color: white;}#sk-container-id-2 div.sk-parallel-item:first-child::after {align-self: flex-end;width: 50%;}#sk-container-id-2 div.sk-parallel-item:last-child::after {align-self: flex-start;width: 50%;}#sk-container-id-2 div.sk-parallel-item:only-child::after {width: 0;}#sk-container-id-2 div.sk-dashed-wrapped {border: 1px dashed gray;margin: 0 0.4em 0.5em 0.4em;box-sizing: border-box;padding-bottom: 0.4em;background-color: white;}#sk-container-id-2 div.sk-label label {font-family: monospace;font-weight: bold;display: inline-block;line-height: 1.2em;}#sk-container-id-2 div.sk-label-container {text-align: center;}#sk-container-id-2 div.sk-container {/* jupyter's `normalize.less` sets `[hidden] { display: none; }` but bootstrap.min.css set `[hidden] { display: none !important; }` so we also need the `!important` here to be able to override the default hidden behavior on the sphinx rendered scikit-learn.org. See: https://github.com/scikit-learn/scikit-learn/issues/21755 */display: inline-block !important;position: relative;}#sk-container-id-2 div.sk-text-repr-fallback {display: none;}</style><div id=\"sk-container-id-2\" class=\"sk-top-container\"><div class=\"sk-text-repr-fallback\"><pre>KNeighborsClassifier(n_neighbors=3)</pre><b>In a Jupyter environment, please rerun this cell to show the HTML representation or trust the notebook. <br />On GitHub, the HTML representation is unable to render, please try loading this page with nbviewer.org.</b></div><div class=\"sk-container\" hidden><div class=\"sk-item\"><div class=\"sk-estimator sk-toggleable\"><input class=\"sk-toggleable__control sk-hidden--visually\" id=\"sk-estimator-id-2\" type=\"checkbox\" checked><label for=\"sk-estimator-id-2\" class=\"sk-toggleable__label sk-toggleable__label-arrow\">KNeighborsClassifier</label><div class=\"sk-toggleable__content\"><pre>KNeighborsClassifier(n_neighbors=3)</pre></div></div></div></div></div>"
            ]
          },
          "metadata": {},
          "execution_count": 76
        }
      ]
    },
    {
      "cell_type": "code",
      "source": [
        "y_predknn=neigh.predict(X_test)\n",
        "print(y_predknn)"
      ],
      "metadata": {
        "colab": {
          "base_uri": "https://localhost:8080/"
        },
        "id": "HWGSZG22GGhI",
        "outputId": "4d39e151-bc83-4205-cb11-227020cfb222"
      },
      "execution_count": null,
      "outputs": [
        {
          "output_type": "stream",
          "name": "stdout",
          "text": [
            "[0 0 1 ... 1 1 0]\n"
          ]
        }
      ]
    },
    {
      "cell_type": "code",
      "source": [
        "confusion_mat_resultknn = confusion_matrix(y_predknn,y_test)\n",
        "sns.heatmap(confusion_mat_resultknn,annot=True)"
      ],
      "metadata": {
        "colab": {
          "base_uri": "https://localhost:8080/",
          "height": 447
        },
        "id": "4G5RnebOGM2z",
        "outputId": "40e746c7-5f98-4f0b-bdcb-07a718918de0"
      },
      "execution_count": null,
      "outputs": [
        {
          "output_type": "execute_result",
          "data": {
            "text/plain": [
              "<Axes: >"
            ]
          },
          "metadata": {},
          "execution_count": 78
        },
        {
          "output_type": "display_data",
          "data": {
            "text/plain": [
              "<Figure size 640x480 with 2 Axes>"
            ],
            "image/png": "[encoded data removed]"
          },
          "metadata": {}
        }
      ]
    },
    {
      "cell_type": "code",
      "source": [
        "accuracyknn=accuracy_score(y_test, y_predknn)\n",
        "\n",
        "print(accuracyknn)"
      ],
      "metadata": {
        "colab": {
          "base_uri": "https://localhost:8080/"
        },
        "id": "dPDk2G1OGcbo",
        "outputId": "5ba7c4bc-95eb-4bc6-e816-dfbe9dd1d528"
      },
      "execution_count": null,
      "outputs": [
        {
          "output_type": "stream",
          "name": "stdout",
          "text": [
            "0.6409335727109515\n"
          ]
        }
      ]
    },
    {
      "cell_type": "markdown",
      "source": [
        "moins bien"
      ],
      "metadata": {
        "id": "vUHhRdj2GjOc"
      }
    },
    {
      "cell_type": "code",
      "source": [
        "from sklearn import tree\n",
        "clft = tree.DecisionTreeClassifier()\n",
        "clft = clft.fit(X_train, y_train)"
      ],
      "metadata": {
        "id": "5kMtJXXEGq1r"
      },
      "execution_count": null,
      "outputs": []
    },
    {
      "cell_type": "code",
      "source": [
        "y_pred_tree=clf.predict(X_test)\n",
        "print(y_pred_tree)"
      ],
      "metadata": {
        "colab": {
          "base_uri": "https://localhost:8080/"
        },
        "id": "LIp-qHZZG1gT",
        "outputId": "1af5a125-b799-4482-d1f1-5393693ca230"
      },
      "execution_count": null,
      "outputs": [
        {
          "output_type": "stream",
          "name": "stdout",
          "text": [
            "[0 0 0 ... 0 1 0]\n"
          ]
        }
      ]
    },
    {
      "cell_type": "code",
      "source": [
        "confusion_mat_result_tree = confusion_matrix(y_pred_tree,y_test)\n",
        "sns.heatmap(confusion_mat_result_tree,annot=True)\n",
        "accuracytree=accuracy_score(y_test, y_pred_tree)\n",
        "print(accuracytree)"
      ],
      "metadata": {
        "colab": {
          "base_uri": "https://localhost:8080/",
          "height": 448
        },
        "id": "s_R99_kSG4sX",
        "outputId": "46a0eb50-85d1-4595-e1d6-5314500c8381"
      },
      "execution_count": null,
      "outputs": [
        {
          "output_type": "stream",
          "name": "stdout",
          "text": [
            "0.6934470377019749\n"
          ]
        },
        {
          "output_type": "display_data",
          "data": {
            "text/plain": [
              "<Figure size 640x480 with 2 Axes>"
            ],
            "image/png": "[encoded data removed]"
          },
          "metadata": {}
        }
      ]
    },
    {
      "cell_type": "code",
      "source": [
        "from sklearn.datasets import make_hastie_10_2\n",
        "from sklearn.ensemble import GradientBoostingClassifier"
      ],
      "metadata": {
        "id": "Yjx0kpDIH080"
      },
      "execution_count": null,
      "outputs": []
    },
    {
      "cell_type": "code",
      "source": [
        "clfgrad = GradientBoostingClassifier(n_estimators=100, learning_rate=1.0,max_depth=1, random_state=0).fit(X_train, y_train)\n",
        "clfgrad.score(X_test, y_test)"
      ],
      "metadata": {
        "colab": {
          "base_uri": "https://localhost:8080/"
        },
        "id": "a6pXmfhJH18Y",
        "outputId": "e5418010-81d4-4c3b-a41f-caabbcdbec8c"
      },
      "execution_count": null,
      "outputs": [
        {
          "output_type": "execute_result",
          "data": {
            "text/plain": [
              "0.7625673249551167"
            ]
          },
          "metadata": {},
          "execution_count": 19
        }
      ]
    },
    {
      "cell_type": "code",
      "source": [],
      "metadata": {
        "id": "tU3Vr6kUIsKC"
      },
      "execution_count": null,
      "outputs": []
    },
    {
      "cell_type": "markdown",
      "source": [
        "# hyper parmetre :"
      ],
      "metadata": {
        "id": "3vXgA7ieKA30"
      }
    },
    {
      "cell_type": "code",
      "source": [
        "from sklearn.model_selection import  RandomizedSearchCV\n",
        "X, y = load_iris(return_X_y=True)\n",
        "clf = LogisticRegression(random_state=0)\n",
        "clf.fit(X_train, y_train)\n",
        "\n",
        "param_grid = {\n",
        "    'C': [0.001, 0.01, 0.1, 1, 10, 100],  # Paramètre de régularisation\n",
        "    'penalty': ['l1', 'l2'],  # Type de régularisation\n",
        "    'solver': ['liblinear', 'saga']  # Algorithme de résolution\n",
        "}\n",
        "\n",
        "clf = LogisticRegression(random_state=0)\n",
        "random_search = RandomizedSearchCV(estimator=clf, param_distributions=param_grid, n_iter=5, cv=5, random_state=42)\n",
        "random_search.fit(X_train, y_train)\n",
        "\n",
        "print(\"Meilleurs hyperparamètres trouvés :\")\n",
        "print(random_search.best_params_)\n",
        "\n",
        "accuracy = random_search.score(X_test, y_test)\n",
        "print(\"Précision sur l'ensemble de test :\", accuracy)"
      ],
      "metadata": {
        "colab": {
          "base_uri": "https://localhost:8080/"
        },
        "id": "mU9q7s9WKDQ_",
        "outputId": "783a4274-b8cd-4cc3-895f-1259f9388ed9"
      },
      "execution_count": null,
      "outputs": [
        {
          "output_type": "stream",
          "name": "stderr",
          "text": [
            "/usr/local/lib/python3.10/dist-packages/sklearn/linear_model/_logistic.py:458: ConvergenceWarning: lbfgs failed to converge (status=1):\n",
            "STOP: TOTAL NO. of ITERATIONS REACHED LIMIT.\n",
            "\n",
            "Increase the number of iterations (max_iter) or scale the data as shown in:\n",
            "    https://scikit-learn.org/stable/modules/preprocessing.html\n",
            "Please also refer to the documentation for alternative solver options:\n",
            "    https://scikit-learn.org/stable/modules/linear_model.html#logistic-regression\n",
            "  n_iter_i = _check_optimize_result(\n",
            "/usr/local/lib/python3.10/dist-packages/sklearn/svm/_base.py:1244: ConvergenceWarning: Liblinear failed to converge, increase the number of iterations.\n",
            "  warnings.warn(\n",
            "/usr/local/lib/python3.10/dist-packages/sklearn/svm/_base.py:1244: ConvergenceWarning: Liblinear failed to converge, increase the number of iterations.\n",
            "  warnings.warn(\n",
            "/usr/local/lib/python3.10/dist-packages/sklearn/linear_model/_sag.py:350: ConvergenceWarning: The max_iter was reached which means the coef_ did not converge\n",
            "  warnings.warn(\n",
            "/usr/local/lib/python3.10/dist-packages/sklearn/linear_model/_sag.py:350: ConvergenceWarning: The max_iter was reached which means the coef_ did not converge\n",
            "  warnings.warn(\n",
            "/usr/local/lib/python3.10/dist-packages/sklearn/linear_model/_sag.py:350: ConvergenceWarning: The max_iter was reached which means the coef_ did not converge\n",
            "  warnings.warn(\n",
            "/usr/local/lib/python3.10/dist-packages/sklearn/linear_model/_sag.py:350: ConvergenceWarning: The max_iter was reached which means the coef_ did not converge\n",
            "  warnings.warn(\n",
            "/usr/local/lib/python3.10/dist-packages/sklearn/linear_model/_sag.py:350: ConvergenceWarning: The max_iter was reached which means the coef_ did not converge\n",
            "  warnings.warn(\n"
          ]
        },
        {
          "output_type": "stream",
          "name": "stdout",
          "text": [
            "Meilleurs hyperparamètres trouvés :\n",
            "{'solver': 'liblinear', 'penalty': 'l1', 'C': 0.1}\n",
            "Précision sur l'ensemble de test : 0.7432675044883303\n"
          ]
        }
      ]
    },
    {
      "cell_type": "code",
      "source": [
        "from sklearn.datasets import load_iris\n",
        "from sklearn.model_selection import train_test_split, RandomizedSearchCV\n",
        "from sklearn.neighbors import KNeighborsClassifier\n",
        "\n",
        "param_grid = {\n",
        "    'n_neighbors': [3, 5, 7, 9, 11],  # Nombre de voisins à considérer\n",
        "    'weights': ['uniform', 'distance'],  # Poids de la distance des voisins\n",
        "    'metric': ['euclidean', 'manhattan', 'minkowski']  # Métrique de distance\n",
        "}\n",
        "\n",
        "neigh = KNeighborsClassifier()\n",
        "random_search = RandomizedSearchCV(estimator=neigh, param_distributions=param_grid, n_iter=5, cv=5, random_state=42)\n",
        "random_search.fit(X_train, y_train)\n",
        "\n",
        "print(\"Meilleurs hyperparamètres trouvés :\")\n",
        "print(random_search.best_params_)\n",
        "\n",
        "accuracy = random_search.score(X_test, y_test)\n",
        "print(\"Précision sur l'ensemble de test :\", accuracy)"
      ],
      "metadata": {
        "colab": {
          "base_uri": "https://localhost:8080/"
        },
        "id": "ApY29h94L8xv",
        "outputId": "01f10289-34ec-4f39-d478-10860516acda"
      },
      "execution_count": null,
      "outputs": [
        {
          "output_type": "stream",
          "name": "stdout",
          "text": [
            "Meilleurs hyperparamètres trouvés :\n",
            "{'weights': 'distance', 'n_neighbors': 9, 'metric': 'manhattan'}\n",
            "Précision sur l'ensemble de test : 0.681149012567325\n"
          ]
        }
      ]
    },
    {
      "cell_type": "code",
      "source": [],
      "metadata": {
        "id": "bD0gncIrMmAM"
      },
      "execution_count": null,
      "outputs": []
    }
  ]
}